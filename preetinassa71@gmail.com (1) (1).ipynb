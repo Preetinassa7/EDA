{
 "cells": [
  {
   "cell_type": "markdown",
   "metadata": {
    "colab_type": "text",
    "id": "9ku0h8OsoHJz"
   },
   "source": [
    "<p><center><font size=10>EDA Project on Online Admission </center></font></p>"
   ]
  },
  {
   "cell_type": "markdown",
   "metadata": {
    "colab_type": "text",
    "id": "NWvRwRdGoK5Y"
   },
   "source": [
    "---\n",
    "# **Table of Contents**\n",
    "---\n",
    "\n",
    "1. [**Introduction**](#Section1)<br>\n",
    "2. [**Problem Statement**](#Section2)<br>\n",
    "3. [**Installing & Importing Libraries**](#Section3)<br>\n",
    "  3.1 [**Installing Libraries**](#Section31)<br>\n",
    "  3.2 [**Upgrading Libraries**](#Section32)<br>\n",
    "  3.3 [**Importing Libraries**](#Section33)<br>\n",
    "4. [**Data Acquisition & Description**](#Section4)<br>\n",
    "5. [**Data Pre-Profiling**](#Section5)<br>\n",
    "6. [**Data Pre-Processing**](#Section6)<br>\n",
    "7. [**Data Post-Profiling**](#Section7)<br>\n",
    "8. [**Exploratory Data Analysis**](#Section8)<br>\n",
    "9. [**Summarization**](#Section9)</br>\n",
    "  9.1 [**Conclusion**](#Section91)</br>\n",
    "  9.2 [**Actionable Insights**](#Section91)</br>\n",
    "\n",
    "---"
   ]
  },
  {
   "cell_type": "markdown",
   "metadata": {
    "colab_type": "text",
    "id": "iACv_4iIoaLi"
   },
   "source": [
    "---\n",
    "<a name = Section1></a>\n",
    "# **1. Introduction**\n",
    "---\n",
    "\n",
    "- Data is been taken from data.world.\n",
    "\n",
    "- Data is based on where Candidates who are willing to admit in the University are applying online through an online form\n"
   ]
  },
  {
   "cell_type": "markdown",
   "metadata": {
    "colab_type": "text",
    "id": "sOGJAM3AoePy"
   },
   "source": [
    "---\n",
    "<a name = Section2></a>\n",
    "# **2. Problem Statement**\n",
    "---\n",
    "\n",
    "- This section is emphasised on providing some generic introduction to the problem that most students confronts.\n",
    "\n",
    "  - In the past few years, marks of students have skyrocketed, due to which many students are incapable of getting admission in top universities.\n",
    "\n",
    "  - Children looking for top universities must have scored highest marks.\n",
    "\n",
    "  - Due to tough competition most children are not able to take admission.\n",
    "\n",
    "  - There is a need for a prediction system to find out courses offered, number of seats available and critieria.\n",
    "\n",
    "  - Even though there are websites that offers this service, their prediction method may not be the best.\n",
    "  \n",
    "<p> <center> <img src=\"http://localhost:8888/view/admission.jpg\"></center></p>\n"
   ]
  },
  {
   "cell_type": "markdown",
   "metadata": {
    "colab_type": "text",
    "id": "yzSAH3m9pLWi"
   },
   "source": [
    "---\n",
    "<a id = Section3></a>\n",
    "# **3. Installing & Importing Libraries**\n",
    "---\n",
    "\n",
    "- This section is emphasised on installing and importing the necessary libraries that will be required."
   ]
  },
  {
   "cell_type": "markdown",
   "metadata": {
    "colab_type": "text",
    "id": "M0y7joFPpOuQ"
   },
   "source": [
    "### **Installing Libraries**"
   ]
  },
  {
   "cell_type": "code",
   "execution_count": 100,
   "metadata": {
    "colab": {},
    "colab_type": "code",
    "id": "S3pqantTnmxX"
   },
   "outputs": [
    {
     "name": "stderr",
     "output_type": "stream",
     "text": [
      "ERROR: Invalid requirement: '#'\n",
      "ERROR: Invalid requirement: '#'\n"
     ]
    },
    {
     "name": "stdout",
     "output_type": "stream",
     "text": [
      "Requirement already satisfied: pandas-profiling==3.1.0 in c:\\users\\preeti\\anaconda3\\lib\\site-packages (3.1.0)\n",
      "Requirement already satisfied: requests>=2.24.0 in c:\\users\\preeti\\anaconda3\\lib\\site-packages (from pandas-profiling==3.1.0) (2.26.0)\n",
      "Requirement already satisfied: numpy>=1.16.0 in c:\\users\\preeti\\anaconda3\\lib\\site-packages (from pandas-profiling==3.1.0) (1.20.3)\n",
      "Requirement already satisfied: PyYAML>=5.0.0 in c:\\users\\preeti\\anaconda3\\lib\\site-packages (from pandas-profiling==3.1.0) (6.0)\n",
      "Requirement already satisfied: jinja2>=2.11.1 in c:\\users\\preeti\\anaconda3\\lib\\site-packages (from pandas-profiling==3.1.0) (2.11.3)\n",
      "Requirement already satisfied: tqdm>=4.48.2 in c:\\users\\preeti\\anaconda3\\lib\\site-packages (from pandas-profiling==3.1.0) (4.62.3)\n",
      "Requirement already satisfied: pydantic>=1.8.1 in c:\\users\\preeti\\anaconda3\\lib\\site-packages (from pandas-profiling==3.1.0) (1.9.2)\n",
      "Requirement already satisfied: visions[type_image_path]==0.7.4 in c:\\users\\preeti\\anaconda3\\lib\\site-packages (from pandas-profiling==3.1.0) (0.7.4)\n",
      "Requirement already satisfied: tangled-up-in-unicode==0.1.0 in c:\\users\\preeti\\anaconda3\\lib\\site-packages (from pandas-profiling==3.1.0) (0.1.0)\n",
      "Requirement already satisfied: markupsafe~=2.0.1 in c:\\users\\preeti\\anaconda3\\lib\\site-packages (from pandas-profiling==3.1.0) (2.0.1)\n",
      "Requirement already satisfied: seaborn>=0.10.1 in c:\\users\\preeti\\anaconda3\\lib\\site-packages (from pandas-profiling==3.1.0) (0.11.2)\n",
      "Requirement already satisfied: multimethod>=1.4 in c:\\users\\preeti\\anaconda3\\lib\\site-packages (from pandas-profiling==3.1.0) (1.8)\n",
      "Requirement already satisfied: phik>=0.11.1 in c:\\users\\preeti\\anaconda3\\lib\\site-packages (from pandas-profiling==3.1.0) (0.12.2)\n",
      "Requirement already satisfied: missingno>=0.4.2 in c:\\users\\preeti\\anaconda3\\lib\\site-packages (from pandas-profiling==3.1.0) (0.5.1)\n",
      "Requirement already satisfied: pandas!=1.0.0,!=1.0.1,!=1.0.2,!=1.1.0,>=0.25.3 in c:\\users\\preeti\\anaconda3\\lib\\site-packages (from pandas-profiling==3.1.0) (1.3.4)\n",
      "Requirement already satisfied: htmlmin>=0.1.12 in c:\\users\\preeti\\anaconda3\\lib\\site-packages (from pandas-profiling==3.1.0) (0.1.12)\n",
      "Requirement already satisfied: joblib~=1.0.1 in c:\\users\\preeti\\anaconda3\\lib\\site-packages (from pandas-profiling==3.1.0) (1.0.1)\n",
      "Requirement already satisfied: scipy>=1.4.1 in c:\\users\\preeti\\anaconda3\\lib\\site-packages (from pandas-profiling==3.1.0) (1.7.1)\n",
      "Requirement already satisfied: matplotlib>=3.2.0 in c:\\users\\preeti\\anaconda3\\lib\\site-packages (from pandas-profiling==3.1.0) (3.4.3)\n",
      "Requirement already satisfied: attrs>=19.3.0 in c:\\users\\preeti\\anaconda3\\lib\\site-packages (from visions[type_image_path]==0.7.4->pandas-profiling==3.1.0) (21.2.0)\n",
      "Requirement already satisfied: networkx>=2.4 in c:\\users\\preeti\\anaconda3\\lib\\site-packages (from visions[type_image_path]==0.7.4->pandas-profiling==3.1.0) (2.6.3)\n",
      "Requirement already satisfied: Pillow in c:\\users\\preeti\\anaconda3\\lib\\site-packages (from visions[type_image_path]==0.7.4->pandas-profiling==3.1.0) (8.4.0)\n",
      "Requirement already satisfied: imagehash in c:\\users\\preeti\\anaconda3\\lib\\site-packages (from visions[type_image_path]==0.7.4->pandas-profiling==3.1.0) (4.2.1)\n",
      "Requirement already satisfied: python-dateutil>=2.7 in c:\\users\\preeti\\anaconda3\\lib\\site-packages (from matplotlib>=3.2.0->pandas-profiling==3.1.0) (2.8.2)\n",
      "Requirement already satisfied: cycler>=0.10 in c:\\users\\preeti\\anaconda3\\lib\\site-packages (from matplotlib>=3.2.0->pandas-profiling==3.1.0) (0.10.0)\n",
      "Requirement already satisfied: kiwisolver>=1.0.1 in c:\\users\\preeti\\anaconda3\\lib\\site-packages (from matplotlib>=3.2.0->pandas-profiling==3.1.0) (1.3.1)\n",
      "Requirement already satisfied: pyparsing>=2.2.1 in c:\\users\\preeti\\anaconda3\\lib\\site-packages (from matplotlib>=3.2.0->pandas-profiling==3.1.0) (3.0.4)\n",
      "Requirement already satisfied: six in c:\\users\\preeti\\anaconda3\\lib\\site-packages (from cycler>=0.10->matplotlib>=3.2.0->pandas-profiling==3.1.0) (1.16.0)\n",
      "Requirement already satisfied: pytz>=2017.3 in c:\\users\\preeti\\anaconda3\\lib\\site-packages (from pandas!=1.0.0,!=1.0.1,!=1.0.2,!=1.1.0,>=0.25.3->pandas-profiling==3.1.0) (2021.3)\n",
      "Requirement already satisfied: typing-extensions>=3.7.4.3 in c:\\users\\preeti\\anaconda3\\lib\\site-packages (from pydantic>=1.8.1->pandas-profiling==3.1.0) (3.10.0.2)\n",
      "Requirement already satisfied: certifi>=2017.4.17 in c:\\users\\preeti\\anaconda3\\lib\\site-packages (from requests>=2.24.0->pandas-profiling==3.1.0) (2021.10.8)\n",
      "Requirement already satisfied: urllib3<1.27,>=1.21.1 in c:\\users\\preeti\\anaconda3\\lib\\site-packages (from requests>=2.24.0->pandas-profiling==3.1.0) (1.26.7)\n",
      "Requirement already satisfied: charset-normalizer~=2.0.0 in c:\\users\\preeti\\anaconda3\\lib\\site-packages (from requests>=2.24.0->pandas-profiling==3.1.0) (2.0.4)\n",
      "Requirement already satisfied: idna<4,>=2.5 in c:\\users\\preeti\\anaconda3\\lib\\site-packages (from requests>=2.24.0->pandas-profiling==3.1.0) (3.2)\n",
      "Requirement already satisfied: colorama in c:\\users\\preeti\\anaconda3\\lib\\site-packages (from tqdm>=4.48.2->pandas-profiling==3.1.0) (0.4.4)\n",
      "Requirement already satisfied: PyWavelets in c:\\users\\preeti\\anaconda3\\lib\\site-packages (from imagehash->visions[type_image_path]==0.7.4->pandas-profiling==3.1.0) (1.1.1)\n",
      "Requirement already satisfied: markupsafe==2.0.1 in c:\\users\\preeti\\anaconda3\\lib\\site-packages (2.0.1)\n",
      "Requirement already satisfied: visions==0.7.4 in c:\\users\\preeti\\anaconda3\\lib\\site-packages (0.7.4)\n",
      "Requirement already satisfied: multimethod>=1.4 in c:\\users\\preeti\\anaconda3\\lib\\site-packages (from visions==0.7.4) (1.8)\n",
      "Requirement already satisfied: tangled-up-in-unicode>=0.0.4 in c:\\users\\preeti\\anaconda3\\lib\\site-packages (from visions==0.7.4) (0.1.0)\n",
      "Requirement already satisfied: networkx>=2.4 in c:\\users\\preeti\\anaconda3\\lib\\site-packages (from visions==0.7.4) (2.6.3)\n",
      "Requirement already satisfied: attrs>=19.3.0 in c:\\users\\preeti\\anaconda3\\lib\\site-packages (from visions==0.7.4) (21.2.0)\n",
      "Requirement already satisfied: numpy in c:\\users\\preeti\\anaconda3\\lib\\site-packages (from visions==0.7.4) (1.20.3)\n",
      "Requirement already satisfied: pandas>=0.25.3 in c:\\users\\preeti\\anaconda3\\lib\\site-packages (from visions==0.7.4) (1.3.4)\n",
      "Requirement already satisfied: python-dateutil>=2.7.3 in c:\\users\\preeti\\anaconda3\\lib\\site-packages (from pandas>=0.25.3->visions==0.7.4) (2.8.2)\n",
      "Requirement already satisfied: pytz>=2017.3 in c:\\users\\preeti\\anaconda3\\lib\\site-packages (from pandas>=0.25.3->visions==0.7.4) (2021.3)\n",
      "Requirement already satisfied: six>=1.5 in c:\\users\\preeti\\anaconda3\\lib\\site-packages (from python-dateutil>=2.7.3->pandas>=0.25.3->visions==0.7.4) (1.16.0)\n"
     ]
    }
   ],
   "source": [
    "!pip install -q datascience                                         # Package that is required by pandas profiling\n",
    "!pip install -q pandas-profiling                                    # Library to generate basic statistics about data\n",
    "!pip install pandas-profiling==3.1.0\n",
    "!pip install markupsafe==2.0.1\n",
    "!pip install visions==0.7.4"
   ]
  },
  {
   "cell_type": "markdown",
   "metadata": {
    "colab_type": "text",
    "id": "pYQrkcl4pe8J"
   },
   "source": [
    "### **Upgrading Libraries**\n",
    "\n",
    "- **After upgrading** the libraries, you need to **restart the runtime** to make the libraries in sync.\n",
    "\n",
    "- Make sure not to execute the cell under Installing Libraries and Upgrading Libraries again after restarting the runtime."
   ]
  },
  {
   "cell_type": "code",
   "execution_count": 101,
   "metadata": {
    "colab": {},
    "colab_type": "code",
    "id": "dmiiVvd-phhY"
   },
   "outputs": [
    {
     "name": "stderr",
     "output_type": "stream",
     "text": [
      "ERROR: Invalid requirement: '#'\n"
     ]
    }
   ],
   "source": [
    "!pip install -q --upgrade pandas-profiling                          # Upgrading pandas profiling to the latest version"
   ]
  },
  {
   "cell_type": "markdown",
   "metadata": {
    "colab_type": "text",
    "id": "PbyRyjDhpoJj"
   },
   "source": [
    "### **Importing Libraries**\n"
   ]
  },
  {
   "cell_type": "code",
   "execution_count": 156,
   "metadata": {
    "colab": {},
    "colab_type": "code",
    "id": "5RapekFlpptb"
   },
   "outputs": [],
   "source": [
    "#-------------------------------------------------------------------------------------------------------------------------------\n",
    "import pandas as pd                                                 # Importing package pandas (For Panel Data Analysis)\n",
    "\n",
    "#-------------------------------------------------------------------------------------------------------------------------------\n",
    "import numpy as np                                                  # Importing package numpys (For Numerical Python)\n",
    "#-------------------------------------------------------------------------------------------------------------------------------\n",
    "import matplotlib.pyplot as plt                                     # Importing pyplot interface to use matplotlib\n",
    "import seaborn as sns                                               # Importing seaborn library for interactive visualization\n",
    "%matplotlib inline\n",
    "#-------------------------------------------------------------------------------------------------------------------------------\n",
    "import scipy as sp                                                  # Importing library for scientific calculations\n",
    "#-------------------------------------------------------------------------------------------------------------------------------\n",
    "import warnings                                                     # Importing warning to disable runtime warnings\n",
    "warnings.filterwarnings(\"ignore\")                                   # Warnings will appear only once"
   ]
  },
  {
   "cell_type": "markdown",
   "metadata": {
    "colab_type": "text",
    "id": "ys9Qb4OlpzvZ"
   },
   "source": [
    "---\n",
    "<a name = Section4></a>\n",
    "# **4. Data Acquisition & Description**\n",
    "---\n",
    "\n",
    "- This dataset is obtained from **data.world** website\n",
    "\n",
    "- It describes the attitudes towards children applying online in various universities.\n",
    "\n",
    "\n",
    "|Id|Feature|Description|\n",
    "|:--|:--|:--|\n",
    "|01| Application Number         | An identical and unique application number generated for every child| \n",
    "|02| Name                       | Name of the child|  \n",
    "|03| Father Name                | Father's Name of the child| \n",
    "|04| DOB                        | Date of Birth of the child|   \n",
    "|05| High School GPA            | Grade scored by a child in High School|\n",
    "|06| Physics Marks              | Marks scored by a child in Physics|\n",
    "|07| Chem Marks                 | Marks scored by a child in Chemistry|\n",
    "|08| Biology Marks              | Marks scored by a child in Biology|\n"
   ]
  },
  {
   "cell_type": "code",
   "execution_count": 103,
   "metadata": {
    "colab": {
     "base_uri": "https://localhost:8080/",
     "height": 221
    },
    "colab_type": "code",
    "executionInfo": {
     "elapsed": 1606,
     "status": "ok",
     "timestamp": 1600335367520,
     "user": {
      "displayName": "Mukesh Kumar",
      "photoUrl": "",
      "userId": "01238672520445611335"
     },
     "user_tz": -330
    },
    "id": "aXPrewndpw1T",
    "outputId": "8966e366-b48b-4d8a-aa51-549a2e6e7308"
   },
   "outputs": [
    {
     "name": "stdout",
     "output_type": "stream",
     "text": [
      "Data Shape: (66, 4) (66, 5)\n"
     ]
    },
    {
     "data": {
      "text/html": [
       "<div>\n",
       "<style scoped>\n",
       "    .dataframe tbody tr th:only-of-type {\n",
       "        vertical-align: middle;\n",
       "    }\n",
       "\n",
       "    .dataframe tbody tr th {\n",
       "        vertical-align: top;\n",
       "    }\n",
       "\n",
       "    .dataframe thead th {\n",
       "        text-align: right;\n",
       "    }\n",
       "</style>\n",
       "<table border=\"1\" class=\"dataframe\">\n",
       "  <thead>\n",
       "    <tr style=\"text-align: right;\">\n",
       "      <th></th>\n",
       "      <th>Application No</th>\n",
       "      <th>HighSchool GPA</th>\n",
       "      <th>Physics Marks</th>\n",
       "      <th>Chem Marks</th>\n",
       "      <th>Biology Marks</th>\n",
       "    </tr>\n",
       "  </thead>\n",
       "  <tbody>\n",
       "    <tr>\n",
       "      <th>0</th>\n",
       "      <td>1036</td>\n",
       "      <td>4.5</td>\n",
       "      <td>78</td>\n",
       "      <td>85</td>\n",
       "      <td>76</td>\n",
       "    </tr>\n",
       "    <tr>\n",
       "      <th>1</th>\n",
       "      <td>1072</td>\n",
       "      <td>3.0</td>\n",
       "      <td>98</td>\n",
       "      <td>105</td>\n",
       "      <td>96</td>\n",
       "    </tr>\n",
       "    <tr>\n",
       "      <th>2</th>\n",
       "      <td>1294</td>\n",
       "      <td>4.1</td>\n",
       "      <td>88</td>\n",
       "      <td>95</td>\n",
       "      <td>86</td>\n",
       "    </tr>\n",
       "    <tr>\n",
       "      <th>3</th>\n",
       "      <td>1294</td>\n",
       "      <td>3.3</td>\n",
       "      <td>78</td>\n",
       "      <td>85</td>\n",
       "      <td>76</td>\n",
       "    </tr>\n",
       "    <tr>\n",
       "      <th>4</th>\n",
       "      <td>1294</td>\n",
       "      <td>3.1</td>\n",
       "      <td>67</td>\n",
       "      <td>74</td>\n",
       "      <td>65</td>\n",
       "    </tr>\n",
       "  </tbody>\n",
       "</table>\n",
       "</div>"
      ],
      "text/plain": [
       "   Application No  HighSchool GPA  Physics Marks  Chem Marks  Biology Marks\n",
       "0            1036             4.5             78          85             76\n",
       "1            1072             3.0             98         105             96\n",
       "2            1294             4.1             88          95             86\n",
       "3            1294             3.3             78          85             76\n",
       "4            1294             3.1             67          74             65"
      ]
     },
     "execution_count": 103,
     "metadata": {},
     "output_type": "execute_result"
    }
   ],
   "source": [
    "ped = pd.read_excel('https://query.data.world/s/rvq66grrmg7ltfimnehx7flpceejtl')\n",
    "acd = pd.read_excel('https://query.data.world/s/j2b6sgupfmz2qvawxyqac4qj2kgcja')\n",
    "print('Data Shape:', ped.shape,acd.shape)\n",
    "#ped.head()\n",
    "acd.head()"
   ]
  },
  {
   "cell_type": "markdown",
   "metadata": {
    "colab_type": "text",
    "id": "FfkdFrL_qMPn"
   },
   "source": [
    "### **Data Description**\n",
    "\n",
    "- In this section we will get **information about the data** and see some observations."
   ]
  },
  {
   "cell_type": "code",
   "execution_count": 104,
   "metadata": {
    "colab": {},
    "colab_type": "code",
    "id": "cLs4jsSuqJjC"
   },
   "outputs": [
    {
     "name": "stdout",
     "output_type": "stream",
     "text": [
      "<class 'pandas.core.frame.DataFrame'>\n",
      "RangeIndex: 66 entries, 0 to 65\n",
      "Data columns (total 4 columns):\n",
      " #   Column          Non-Null Count  Dtype         \n",
      "---  ------          --------------  -----         \n",
      " 0   Application No  66 non-null     int64         \n",
      " 1   Name            66 non-null     object        \n",
      " 2   Father Name     66 non-null     object        \n",
      " 3   DOB             66 non-null     datetime64[ns]\n",
      "dtypes: datetime64[ns](1), int64(1), object(2)\n",
      "memory usage: 2.2+ KB\n"
     ]
    }
   ],
   "source": [
    "ped.info()"
   ]
  },
  {
   "cell_type": "code",
   "execution_count": 105,
   "metadata": {},
   "outputs": [
    {
     "data": {
      "text/html": [
       "<div>\n",
       "<style scoped>\n",
       "    .dataframe tbody tr th:only-of-type {\n",
       "        vertical-align: middle;\n",
       "    }\n",
       "\n",
       "    .dataframe tbody tr th {\n",
       "        vertical-align: top;\n",
       "    }\n",
       "\n",
       "    .dataframe thead th {\n",
       "        text-align: right;\n",
       "    }\n",
       "</style>\n",
       "<table border=\"1\" class=\"dataframe\">\n",
       "  <thead>\n",
       "    <tr style=\"text-align: right;\">\n",
       "      <th></th>\n",
       "      <th>Application No</th>\n",
       "    </tr>\n",
       "  </thead>\n",
       "  <tbody>\n",
       "    <tr>\n",
       "      <th>count</th>\n",
       "      <td>66.000000</td>\n",
       "    </tr>\n",
       "    <tr>\n",
       "      <th>mean</th>\n",
       "      <td>1251.151515</td>\n",
       "    </tr>\n",
       "    <tr>\n",
       "      <th>std</th>\n",
       "      <td>177.384696</td>\n",
       "    </tr>\n",
       "    <tr>\n",
       "      <th>min</th>\n",
       "      <td>1008.000000</td>\n",
       "    </tr>\n",
       "    <tr>\n",
       "      <th>25%</th>\n",
       "      <td>1068.250000</td>\n",
       "    </tr>\n",
       "    <tr>\n",
       "      <th>50%</th>\n",
       "      <td>1292.000000</td>\n",
       "    </tr>\n",
       "    <tr>\n",
       "      <th>75%</th>\n",
       "      <td>1408.750000</td>\n",
       "    </tr>\n",
       "    <tr>\n",
       "      <th>max</th>\n",
       "      <td>1498.000000</td>\n",
       "    </tr>\n",
       "  </tbody>\n",
       "</table>\n",
       "</div>"
      ],
      "text/plain": [
       "       Application No\n",
       "count       66.000000\n",
       "mean      1251.151515\n",
       "std        177.384696\n",
       "min       1008.000000\n",
       "25%       1068.250000\n",
       "50%       1292.000000\n",
       "75%       1408.750000\n",
       "max       1498.000000"
      ]
     },
     "execution_count": 105,
     "metadata": {},
     "output_type": "execute_result"
    }
   ],
   "source": [
    "ped.describe()"
   ]
  },
  {
   "cell_type": "code",
   "execution_count": 106,
   "metadata": {},
   "outputs": [
    {
     "name": "stdout",
     "output_type": "stream",
     "text": [
      "<class 'pandas.core.frame.DataFrame'>\n",
      "RangeIndex: 66 entries, 0 to 65\n",
      "Data columns (total 5 columns):\n",
      " #   Column          Non-Null Count  Dtype  \n",
      "---  ------          --------------  -----  \n",
      " 0   Application No  66 non-null     int64  \n",
      " 1   HighSchool GPA  66 non-null     float64\n",
      " 2   Physics Marks   66 non-null     int64  \n",
      " 3   Chem Marks      66 non-null     int64  \n",
      " 4   Biology Marks   66 non-null     int64  \n",
      "dtypes: float64(1), int64(4)\n",
      "memory usage: 2.7 KB\n"
     ]
    }
   ],
   "source": [
    "acd.info()"
   ]
  },
  {
   "cell_type": "markdown",
   "metadata": {},
   "source": [
    "**Observations:**\n",
    "\n",
    "- There are two tables **Children Info** and **Children Marks**.\n",
    "\n",
    "- There are **Four Features** with **66 Observations** in **Children Info**.\n",
    "\n",
    "- There are **Four Features** with **66 Observations** in **Children Marks**.\n",
    "- **Application No**, **Physics Marks**,**Chemistry Marks**, **Biology Marks** are of **int64** datatype.\n",
    "- **DOB** is of **datetime64[ns]** datatype.\n",
    "\n",
    "- **HighSchool GPA** is of **float64** datatype.\n",
    "- **Name** and **Father's Name** are of **Object** datatype"
   ]
  },
  {
   "cell_type": "markdown",
   "metadata": {
    "colab_type": "text",
    "id": "lM-hljKpqXsp"
   },
   "source": [
    "### **Data Information**"
   ]
  },
  {
   "cell_type": "code",
   "execution_count": 107,
   "metadata": {
    "colab": {},
    "colab_type": "code",
    "id": "aPYZy6voqXc4"
   },
   "outputs": [
    {
     "data": {
      "text/html": [
       "<div>\n",
       "<style scoped>\n",
       "    .dataframe tbody tr th:only-of-type {\n",
       "        vertical-align: middle;\n",
       "    }\n",
       "\n",
       "    .dataframe tbody tr th {\n",
       "        vertical-align: top;\n",
       "    }\n",
       "\n",
       "    .dataframe thead th {\n",
       "        text-align: right;\n",
       "    }\n",
       "</style>\n",
       "<table border=\"1\" class=\"dataframe\">\n",
       "  <thead>\n",
       "    <tr style=\"text-align: right;\">\n",
       "      <th></th>\n",
       "      <th>Application No</th>\n",
       "    </tr>\n",
       "  </thead>\n",
       "  <tbody>\n",
       "    <tr>\n",
       "      <th>count</th>\n",
       "      <td>66.000000</td>\n",
       "    </tr>\n",
       "    <tr>\n",
       "      <th>mean</th>\n",
       "      <td>1251.151515</td>\n",
       "    </tr>\n",
       "    <tr>\n",
       "      <th>std</th>\n",
       "      <td>177.384696</td>\n",
       "    </tr>\n",
       "    <tr>\n",
       "      <th>min</th>\n",
       "      <td>1008.000000</td>\n",
       "    </tr>\n",
       "    <tr>\n",
       "      <th>25%</th>\n",
       "      <td>1068.250000</td>\n",
       "    </tr>\n",
       "    <tr>\n",
       "      <th>50%</th>\n",
       "      <td>1292.000000</td>\n",
       "    </tr>\n",
       "    <tr>\n",
       "      <th>75%</th>\n",
       "      <td>1408.750000</td>\n",
       "    </tr>\n",
       "    <tr>\n",
       "      <th>max</th>\n",
       "      <td>1498.000000</td>\n",
       "    </tr>\n",
       "  </tbody>\n",
       "</table>\n",
       "</div>"
      ],
      "text/plain": [
       "       Application No\n",
       "count       66.000000\n",
       "mean      1251.151515\n",
       "std        177.384696\n",
       "min       1008.000000\n",
       "25%       1068.250000\n",
       "50%       1292.000000\n",
       "75%       1408.750000\n",
       "max       1498.000000"
      ]
     },
     "execution_count": 107,
     "metadata": {},
     "output_type": "execute_result"
    }
   ],
   "source": [
    "ped.describe()"
   ]
  },
  {
   "cell_type": "code",
   "execution_count": 108,
   "metadata": {},
   "outputs": [
    {
     "data": {
      "text/html": [
       "<div>\n",
       "<style scoped>\n",
       "    .dataframe tbody tr th:only-of-type {\n",
       "        vertical-align: middle;\n",
       "    }\n",
       "\n",
       "    .dataframe tbody tr th {\n",
       "        vertical-align: top;\n",
       "    }\n",
       "\n",
       "    .dataframe thead th {\n",
       "        text-align: right;\n",
       "    }\n",
       "</style>\n",
       "<table border=\"1\" class=\"dataframe\">\n",
       "  <thead>\n",
       "    <tr style=\"text-align: right;\">\n",
       "      <th></th>\n",
       "      <th>Application No</th>\n",
       "      <th>HighSchool GPA</th>\n",
       "      <th>Physics Marks</th>\n",
       "      <th>Chem Marks</th>\n",
       "      <th>Biology Marks</th>\n",
       "    </tr>\n",
       "  </thead>\n",
       "  <tbody>\n",
       "    <tr>\n",
       "      <th>count</th>\n",
       "      <td>66.000000</td>\n",
       "      <td>66.000000</td>\n",
       "      <td>66.000000</td>\n",
       "      <td>66.000000</td>\n",
       "      <td>66.000000</td>\n",
       "    </tr>\n",
       "    <tr>\n",
       "      <th>mean</th>\n",
       "      <td>1251.151515</td>\n",
       "      <td>3.325758</td>\n",
       "      <td>64.090909</td>\n",
       "      <td>71.090909</td>\n",
       "      <td>62.090909</td>\n",
       "    </tr>\n",
       "    <tr>\n",
       "      <th>std</th>\n",
       "      <td>177.384696</td>\n",
       "      <td>0.644578</td>\n",
       "      <td>19.241563</td>\n",
       "      <td>19.241563</td>\n",
       "      <td>19.241563</td>\n",
       "    </tr>\n",
       "    <tr>\n",
       "      <th>min</th>\n",
       "      <td>1008.000000</td>\n",
       "      <td>2.400000</td>\n",
       "      <td>23.000000</td>\n",
       "      <td>30.000000</td>\n",
       "      <td>21.000000</td>\n",
       "    </tr>\n",
       "    <tr>\n",
       "      <th>25%</th>\n",
       "      <td>1068.250000</td>\n",
       "      <td>3.000000</td>\n",
       "      <td>54.000000</td>\n",
       "      <td>61.000000</td>\n",
       "      <td>52.000000</td>\n",
       "    </tr>\n",
       "    <tr>\n",
       "      <th>50%</th>\n",
       "      <td>1292.000000</td>\n",
       "      <td>3.150000</td>\n",
       "      <td>66.000000</td>\n",
       "      <td>73.000000</td>\n",
       "      <td>64.000000</td>\n",
       "    </tr>\n",
       "    <tr>\n",
       "      <th>75%</th>\n",
       "      <td>1408.750000</td>\n",
       "      <td>3.900000</td>\n",
       "      <td>78.000000</td>\n",
       "      <td>85.000000</td>\n",
       "      <td>76.000000</td>\n",
       "    </tr>\n",
       "    <tr>\n",
       "      <th>max</th>\n",
       "      <td>1498.000000</td>\n",
       "      <td>4.500000</td>\n",
       "      <td>98.000000</td>\n",
       "      <td>105.000000</td>\n",
       "      <td>96.000000</td>\n",
       "    </tr>\n",
       "  </tbody>\n",
       "</table>\n",
       "</div>"
      ],
      "text/plain": [
       "       Application No  HighSchool GPA  Physics Marks  Chem Marks  \\\n",
       "count       66.000000       66.000000      66.000000   66.000000   \n",
       "mean      1251.151515        3.325758      64.090909   71.090909   \n",
       "std        177.384696        0.644578      19.241563   19.241563   \n",
       "min       1008.000000        2.400000      23.000000   30.000000   \n",
       "25%       1068.250000        3.000000      54.000000   61.000000   \n",
       "50%       1292.000000        3.150000      66.000000   73.000000   \n",
       "75%       1408.750000        3.900000      78.000000   85.000000   \n",
       "max       1498.000000        4.500000      98.000000  105.000000   \n",
       "\n",
       "       Biology Marks  \n",
       "count      66.000000  \n",
       "mean       62.090909  \n",
       "std        19.241563  \n",
       "min        21.000000  \n",
       "25%        52.000000  \n",
       "50%        64.000000  \n",
       "75%        76.000000  \n",
       "max        96.000000  "
      ]
     },
     "execution_count": 108,
     "metadata": {},
     "output_type": "execute_result"
    }
   ],
   "source": [
    "acd.describe()"
   ]
  },
  {
   "cell_type": "code",
   "execution_count": 109,
   "metadata": {},
   "outputs": [
    {
     "data": {
      "text/plain": [
       "Application No    49\n",
       "Name              49\n",
       "Father Name       49\n",
       "DOB               48\n",
       "dtype: int64"
      ]
     },
     "execution_count": 109,
     "metadata": {},
     "output_type": "execute_result"
    }
   ],
   "source": [
    "ped.nunique()"
   ]
  },
  {
   "cell_type": "code",
   "execution_count": 110,
   "metadata": {},
   "outputs": [
    {
     "data": {
      "text/plain": [
       "Application No    49\n",
       "HighSchool GPA     8\n",
       "Physics Marks     14\n",
       "Chem Marks        14\n",
       "Biology Marks     14\n",
       "dtype: int64"
      ]
     },
     "execution_count": 110,
     "metadata": {},
     "output_type": "execute_result"
    }
   ],
   "source": [
    "acd.nunique()"
   ]
  },
  {
   "cell_type": "markdown",
   "metadata": {},
   "source": [
    "**Observations:**\n",
    "\n",
    "-  We can observe that there are no **missing data** in our dataset.\n",
    "\n",
    "- We have found **Duplicacy of Data**."
   ]
  },
  {
   "cell_type": "markdown",
   "metadata": {
    "colab_type": "text",
    "id": "efZ8svauqc55"
   },
   "source": [
    "---\n",
    "<a name = Section5></a>\n",
    "# **5. Data Pre-Profiling**\n",
    "---\n",
    "\n",
    "- This section is emphasised on getting a report about the data.\n",
    "\n",
    "-  Performed pandas profiling and got some observations out of it..."
   ]
  },
  {
   "cell_type": "code",
   "execution_count": 111,
   "metadata": {},
   "outputs": [],
   "source": [
    "from pandas_profiling import ProfileReport"
   ]
  },
  {
   "cell_type": "code",
   "execution_count": 112,
   "metadata": {},
   "outputs": [
    {
     "data": {
      "text/plain": [
       "0     13\n",
       "1     12\n",
       "2     20\n",
       "3     20\n",
       "4     20\n",
       "      ..\n",
       "61     9\n",
       "62     9\n",
       "63    13\n",
       "64    10\n",
       "65    22\n",
       "Name: Name, Length: 66, dtype: int64"
      ]
     },
     "execution_count": 112,
     "metadata": {},
     "output_type": "execute_result"
    }
   ],
   "source": [
    "ped['Name'].str.len()"
   ]
  },
  {
   "cell_type": "code",
   "execution_count": 113,
   "metadata": {},
   "outputs": [
    {
     "data": {
      "text/plain": [
       "MAHAM                     7\n",
       "FARHANA ISRAR             4\n",
       "MUHAMMAD ASHAR NAEEM      3\n",
       "AYISHA                    3\n",
       "IQRA ASLAM                2\n",
       "RABIYA MAZHAR             2\n",
       "Aleena Arshad             2\n",
       "Muhammad Sami Qureshi     2\n",
       "NABILA TOHEED             1\n",
       "Aaiman Shahid             1\n",
       "HINA AKRAM ABBASI         1\n",
       "HAFSA                     1\n",
       "PREETI AdVANI             1\n",
       "MUHAMMAD ISMAIL           1\n",
       "SANAM SHAFI               1\n",
       "VERKHA TANWANI            1\n",
       "Hafiza Sana Habib         1\n",
       "Ayesha Hassan             1\n",
       "Ammar khan soomro         1\n",
       "SADIA ANWER               1\n",
       "Urooj                     1\n",
       "TOOBA SANA                1\n",
       "HAFIZA HAFSA EJAZ         1\n",
       "JAVIRIYA                  1\n",
       "ANUM RAUF                 1\n",
       "TABINDA ZAIDI             1\n",
       "SARA AMJAD                1\n",
       "Roshan Kumar              1\n",
       "Sumia                     1\n",
       "SAFFA MARIAM              1\n",
       "MARYAM MANSOOR            1\n",
       "FAIZA RUSTAM              1\n",
       "SAIRA rAFIQ               1\n",
       "ROHA FARHAN LODHI         1\n",
       "HAFSA QAZI                1\n",
       "AYESHA                    1\n",
       "NEHA ARSHAD KHAN          1\n",
       "SAIF ASLAM KHAN           1\n",
       "ABDUL WASAY               1\n",
       "ARMISHA TARIQ             1\n",
       "TOOBA KHATOON             1\n",
       "EZWA ASHFAQ               1\n",
       "WARDHA                    1\n",
       "MUHAMMAD HAMZA NADEEM     1\n",
       "Urooj Shafqat             1\n",
       "AREEBA MAHROOH GUL        1\n",
       "PIRHA MASOOD              1\n",
       "MUHAMMAD NASIR            1\n",
       "MUHAMMAD ANAS ALI RAZA    1\n",
       "Name: Name, dtype: int64"
      ]
     },
     "execution_count": 113,
     "metadata": {},
     "output_type": "execute_result"
    }
   ],
   "source": [
    "ped['Name'].value_counts()"
   ]
  },
  {
   "cell_type": "code",
   "execution_count": 114,
   "metadata": {},
   "outputs": [
    {
     "data": {
      "text/plain": [
       "MAHAM                      True\n",
       "FARHANA ISRAR              True\n",
       "MUHAMMAD ASHAR NAEEM       True\n",
       "AYISHA                     True\n",
       "IQRA ASLAM                 True\n",
       "RABIYA MAZHAR              True\n",
       "Aleena Arshad              True\n",
       "Muhammad Sami Qureshi      True\n",
       "NABILA TOHEED             False\n",
       "Aaiman Shahid             False\n",
       "HINA AKRAM ABBASI         False\n",
       "HAFSA                     False\n",
       "PREETI AdVANI             False\n",
       "MUHAMMAD ISMAIL           False\n",
       "SANAM SHAFI               False\n",
       "VERKHA TANWANI            False\n",
       "Hafiza Sana Habib         False\n",
       "Ayesha Hassan             False\n",
       "Ammar khan soomro         False\n",
       "SADIA ANWER               False\n",
       "Urooj                     False\n",
       "TOOBA SANA                False\n",
       "HAFIZA HAFSA EJAZ         False\n",
       "JAVIRIYA                  False\n",
       "ANUM RAUF                 False\n",
       "TABINDA ZAIDI             False\n",
       "SARA AMJAD                False\n",
       "Roshan Kumar              False\n",
       "Sumia                     False\n",
       "SAFFA MARIAM              False\n",
       "MARYAM MANSOOR            False\n",
       "FAIZA RUSTAM              False\n",
       "SAIRA rAFIQ               False\n",
       "ROHA FARHAN LODHI         False\n",
       "HAFSA QAZI                False\n",
       "AYESHA                    False\n",
       "NEHA ARSHAD KHAN          False\n",
       "SAIF ASLAM KHAN           False\n",
       "ABDUL WASAY               False\n",
       "ARMISHA TARIQ             False\n",
       "TOOBA KHATOON             False\n",
       "EZWA ASHFAQ               False\n",
       "WARDHA                    False\n",
       "MUHAMMAD HAMZA NADEEM     False\n",
       "Urooj Shafqat             False\n",
       "AREEBA MAHROOH GUL        False\n",
       "PIRHA MASOOD              False\n",
       "MUHAMMAD NASIR            False\n",
       "MUHAMMAD ANAS ALI RAZA    False\n",
       "Name: Name, dtype: bool"
      ]
     },
     "execution_count": 114,
     "metadata": {},
     "output_type": "execute_result"
    }
   ],
   "source": [
    "my_tmp=ped['Name'].value_counts()>1\n",
    "my_tmp"
   ]
  },
  {
   "cell_type": "code",
   "execution_count": 115,
   "metadata": {},
   "outputs": [],
   "source": [
    "#profile = ProfileReport(df = data)\n",
    "#profile.to_file(output_file = 'Pre Profiling Report.html')\n",
    "#print('Accomplished!')"
   ]
  },
  {
   "cell_type": "markdown",
   "metadata": {
    "colab": {},
    "colab_type": "code",
    "id": "VEHxAq8Zqcgo"
   },
   "source": [
    "**Observations**:\n",
    "- It has been observed that there are **Two Tables** in this data set.\n",
    "- One is based on **Personal Info** of students\n",
    "-The other one is based on **Academic Performance** of students\n",
    "- There is **no missing values** in Data set.\n",
    "- There are no outliers. \n",
    "- The data set is pre cleaned. "
   ]
  },
  {
   "cell_type": "markdown",
   "metadata": {
    "colab_type": "text",
    "id": "YMvtK0X-qoe6"
   },
   "source": [
    "---\n",
    "<a name = Section6></a>\n",
    "# **6. Data Pre-Processing**\n",
    "---\n",
    "\n",
    "- This section is emphasised on performing data manipulation over unstructured data for further processing and analysis.\n",
    "\n",
    "- To modify unstructured data to strucuted data you need to verify and manipulate the integrity of the data by:\n",
    "  - Handling missing data,\n",
    "\n",
    "  - Handling redundant data,\n",
    "\n",
    "  - Handling inconsistent data,\n",
    "\n",
    "  - Handling outliers,\n",
    "\n",
    "  - Handling typos"
   ]
  },
  {
   "cell_type": "code",
   "execution_count": 157,
   "metadata": {},
   "outputs": [
    {
     "data": {
      "text/plain": [
       "<bound method NDFrame._add_numeric_operations.<locals>.any of 0     False\n",
       "1     False\n",
       "2     False\n",
       "5     False\n",
       "6     False\n",
       "8     False\n",
       "9     False\n",
       "10    False\n",
       "11    False\n",
       "12    False\n",
       "13    False\n",
       "14    False\n",
       "15    False\n",
       "16    False\n",
       "17    False\n",
       "18    False\n",
       "19    False\n",
       "20    False\n",
       "21    False\n",
       "22    False\n",
       "24    False\n",
       "30    False\n",
       "34    False\n",
       "35    False\n",
       "37    False\n",
       "38    False\n",
       "40    False\n",
       "41    False\n",
       "42    False\n",
       "43    False\n",
       "45    False\n",
       "46    False\n",
       "47    False\n",
       "48    False\n",
       "49    False\n",
       "50    False\n",
       "51    False\n",
       "52    False\n",
       "53    False\n",
       "54    False\n",
       "56    False\n",
       "57    False\n",
       "58    False\n",
       "60    False\n",
       "61    False\n",
       "62    False\n",
       "63    False\n",
       "64    False\n",
       "65    False\n",
       "dtype: bool>"
      ]
     },
     "execution_count": 157,
     "metadata": {},
     "output_type": "execute_result"
    }
   ],
   "source": [
    "ped.duplicated().any"
   ]
  },
  {
   "cell_type": "code",
   "execution_count": 158,
   "metadata": {
    "collapsed": true
   },
   "outputs": [
    {
     "data": {
      "text/html": [
       "<div>\n",
       "<style scoped>\n",
       "    .dataframe tbody tr th:only-of-type {\n",
       "        vertical-align: middle;\n",
       "    }\n",
       "\n",
       "    .dataframe tbody tr th {\n",
       "        vertical-align: top;\n",
       "    }\n",
       "\n",
       "    .dataframe thead th {\n",
       "        text-align: right;\n",
       "    }\n",
       "</style>\n",
       "<table border=\"1\" class=\"dataframe\">\n",
       "  <thead>\n",
       "    <tr style=\"text-align: right;\">\n",
       "      <th></th>\n",
       "      <th>Application No</th>\n",
       "      <th>Name</th>\n",
       "      <th>Father Name</th>\n",
       "      <th>DOB</th>\n",
       "      <th>year</th>\n",
       "      <th>month</th>\n",
       "    </tr>\n",
       "  </thead>\n",
       "  <tbody>\n",
       "    <tr>\n",
       "      <th>0</th>\n",
       "      <td>1036</td>\n",
       "      <td>NABILA TOHEED</td>\n",
       "      <td>TOHEED AHMED</td>\n",
       "      <td>1998-12-15</td>\n",
       "      <td>1998</td>\n",
       "      <td>12</td>\n",
       "    </tr>\n",
       "    <tr>\n",
       "      <th>1</th>\n",
       "      <td>1072</td>\n",
       "      <td>PIRHA MASOOD</td>\n",
       "      <td>MASOOD AHMED SHAIKH</td>\n",
       "      <td>1997-01-17</td>\n",
       "      <td>1997</td>\n",
       "      <td>1</td>\n",
       "    </tr>\n",
       "    <tr>\n",
       "      <th>2</th>\n",
       "      <td>1294</td>\n",
       "      <td>MUHAMMAD ASHAR NAEEM</td>\n",
       "      <td>MUHAMMAD NAEEM ANWAR LATE</td>\n",
       "      <td>1998-02-20</td>\n",
       "      <td>1998</td>\n",
       "      <td>2</td>\n",
       "    </tr>\n",
       "    <tr>\n",
       "      <th>5</th>\n",
       "      <td>1467</td>\n",
       "      <td>IQRA ASLAM</td>\n",
       "      <td>Muhammad Aslam</td>\n",
       "      <td>1997-08-15</td>\n",
       "      <td>1997</td>\n",
       "      <td>8</td>\n",
       "    </tr>\n",
       "    <tr>\n",
       "      <th>6</th>\n",
       "      <td>1039</td>\n",
       "      <td>FAIZA RUSTAM</td>\n",
       "      <td>SYED RUSTAM SHAH</td>\n",
       "      <td>1997-10-10</td>\n",
       "      <td>1997</td>\n",
       "      <td>10</td>\n",
       "    </tr>\n",
       "    <tr>\n",
       "      <th>8</th>\n",
       "      <td>1021</td>\n",
       "      <td>SAIRA rAFIQ</td>\n",
       "      <td>MUHAMMAD RAFIQ</td>\n",
       "      <td>1998-11-11</td>\n",
       "      <td>1998</td>\n",
       "      <td>11</td>\n",
       "    </tr>\n",
       "    <tr>\n",
       "      <th>9</th>\n",
       "      <td>1016</td>\n",
       "      <td>ROHA FARHAN LODHI</td>\n",
       "      <td>FARHAN KHAN LODHI</td>\n",
       "      <td>1998-03-30</td>\n",
       "      <td>1998</td>\n",
       "      <td>3</td>\n",
       "    </tr>\n",
       "    <tr>\n",
       "      <th>10</th>\n",
       "      <td>1025</td>\n",
       "      <td>HAFSA QAZI</td>\n",
       "      <td>SHAFI MOHAMMAD QAZI</td>\n",
       "      <td>1999-01-31</td>\n",
       "      <td>1999</td>\n",
       "      <td>1</td>\n",
       "    </tr>\n",
       "    <tr>\n",
       "      <th>11</th>\n",
       "      <td>1032</td>\n",
       "      <td>AYESHA</td>\n",
       "      <td>RASHID HUSSAIN SIDDIQUE</td>\n",
       "      <td>1998-03-16</td>\n",
       "      <td>1998</td>\n",
       "      <td>3</td>\n",
       "    </tr>\n",
       "    <tr>\n",
       "      <th>12</th>\n",
       "      <td>1268</td>\n",
       "      <td>Aleena Arshad</td>\n",
       "      <td>Arshad Ali</td>\n",
       "      <td>1999-01-22</td>\n",
       "      <td>1999</td>\n",
       "      <td>1</td>\n",
       "    </tr>\n",
       "    <tr>\n",
       "      <th>13</th>\n",
       "      <td>1087</td>\n",
       "      <td>Muhammad Sami Qureshi</td>\n",
       "      <td>Shafi Muhammad Qureshi</td>\n",
       "      <td>1999-01-31</td>\n",
       "      <td>1999</td>\n",
       "      <td>1</td>\n",
       "    </tr>\n",
       "    <tr>\n",
       "      <th>14</th>\n",
       "      <td>1047</td>\n",
       "      <td>NEHA ARSHAD KHAN</td>\n",
       "      <td>ARSHAD MEHMOOD KHAN</td>\n",
       "      <td>1998-10-19</td>\n",
       "      <td>1998</td>\n",
       "      <td>10</td>\n",
       "    </tr>\n",
       "    <tr>\n",
       "      <th>15</th>\n",
       "      <td>1050</td>\n",
       "      <td>SAIF ASLAM KHAN</td>\n",
       "      <td>ASLAM SHAKOOR</td>\n",
       "      <td>1997-02-23</td>\n",
       "      <td>1997</td>\n",
       "      <td>2</td>\n",
       "    </tr>\n",
       "    <tr>\n",
       "      <th>16</th>\n",
       "      <td>1495</td>\n",
       "      <td>ABDUL WASAY</td>\n",
       "      <td>MANSOOR ANWER</td>\n",
       "      <td>1998-06-17</td>\n",
       "      <td>1998</td>\n",
       "      <td>6</td>\n",
       "    </tr>\n",
       "    <tr>\n",
       "      <th>17</th>\n",
       "      <td>1263</td>\n",
       "      <td>ARMISHA TARIQ</td>\n",
       "      <td>TARIQ RASHID</td>\n",
       "      <td>1999-08-01</td>\n",
       "      <td>1999</td>\n",
       "      <td>8</td>\n",
       "    </tr>\n",
       "    <tr>\n",
       "      <th>18</th>\n",
       "      <td>1354</td>\n",
       "      <td>MAHAM</td>\n",
       "      <td>MUHAMMAD SIDDIQUE</td>\n",
       "      <td>1996-08-23</td>\n",
       "      <td>1996</td>\n",
       "      <td>8</td>\n",
       "    </tr>\n",
       "    <tr>\n",
       "      <th>19</th>\n",
       "      <td>1028</td>\n",
       "      <td>TOOBA KHATOON</td>\n",
       "      <td>SHAIKH MUHAMMAD SHAKEEL</td>\n",
       "      <td>1997-05-05</td>\n",
       "      <td>1997</td>\n",
       "      <td>5</td>\n",
       "    </tr>\n",
       "    <tr>\n",
       "      <th>20</th>\n",
       "      <td>1011</td>\n",
       "      <td>EZWA ASHFAQ</td>\n",
       "      <td>ASHFAQ HUSSAIN</td>\n",
       "      <td>1999-01-18</td>\n",
       "      <td>1999</td>\n",
       "      <td>1</td>\n",
       "    </tr>\n",
       "    <tr>\n",
       "      <th>21</th>\n",
       "      <td>1480</td>\n",
       "      <td>WARDHA</td>\n",
       "      <td>ATTAULLAH KHAN</td>\n",
       "      <td>1996-03-29</td>\n",
       "      <td>1996</td>\n",
       "      <td>3</td>\n",
       "    </tr>\n",
       "    <tr>\n",
       "      <th>22</th>\n",
       "      <td>1489</td>\n",
       "      <td>FARHANA ISRAR</td>\n",
       "      <td>ISRAR AHMED</td>\n",
       "      <td>1996-12-08</td>\n",
       "      <td>1996</td>\n",
       "      <td>12</td>\n",
       "    </tr>\n",
       "    <tr>\n",
       "      <th>24</th>\n",
       "      <td>1008</td>\n",
       "      <td>MUHAMMAD HAMZA NADEEM</td>\n",
       "      <td>MUHAMMAD NADEEM CHAUDHARY</td>\n",
       "      <td>1997-06-22</td>\n",
       "      <td>1997</td>\n",
       "      <td>6</td>\n",
       "    </tr>\n",
       "    <tr>\n",
       "      <th>30</th>\n",
       "      <td>1257</td>\n",
       "      <td>Urooj Shafqat</td>\n",
       "      <td>Shafqat Ur Rehman Sajid</td>\n",
       "      <td>1997-05-30</td>\n",
       "      <td>1997</td>\n",
       "      <td>5</td>\n",
       "    </tr>\n",
       "    <tr>\n",
       "      <th>34</th>\n",
       "      <td>1088</td>\n",
       "      <td>AREEBA MAHROOH GUL</td>\n",
       "      <td>AGHA MAJID GUL</td>\n",
       "      <td>1997-02-09</td>\n",
       "      <td>1997</td>\n",
       "      <td>2</td>\n",
       "    </tr>\n",
       "    <tr>\n",
       "      <th>35</th>\n",
       "      <td>1366</td>\n",
       "      <td>AYISHA</td>\n",
       "      <td>KAMAL IFTIKHAR AHMED</td>\n",
       "      <td>1998-04-03</td>\n",
       "      <td>1998</td>\n",
       "      <td>4</td>\n",
       "    </tr>\n",
       "    <tr>\n",
       "      <th>37</th>\n",
       "      <td>1096</td>\n",
       "      <td>Sumia</td>\n",
       "      <td>Abdul qudoos</td>\n",
       "      <td>1999-01-01</td>\n",
       "      <td>1999</td>\n",
       "      <td>1</td>\n",
       "    </tr>\n",
       "    <tr>\n",
       "      <th>38</th>\n",
       "      <td>1082</td>\n",
       "      <td>MUHAMMAD NASIR</td>\n",
       "      <td>MUHAMMAD IBRAHEEM</td>\n",
       "      <td>1997-01-23</td>\n",
       "      <td>1997</td>\n",
       "      <td>1</td>\n",
       "    </tr>\n",
       "    <tr>\n",
       "      <th>40</th>\n",
       "      <td>1408</td>\n",
       "      <td>MARYAM MANSOOR</td>\n",
       "      <td>MANSOOR AHMED ANSARI</td>\n",
       "      <td>1997-08-01</td>\n",
       "      <td>1997</td>\n",
       "      <td>8</td>\n",
       "    </tr>\n",
       "    <tr>\n",
       "      <th>41</th>\n",
       "      <td>1409</td>\n",
       "      <td>SAFFA MARIAM</td>\n",
       "      <td>MUHUMMAD SALEEM</td>\n",
       "      <td>1995-09-07</td>\n",
       "      <td>1995</td>\n",
       "      <td>9</td>\n",
       "    </tr>\n",
       "    <tr>\n",
       "      <th>42</th>\n",
       "      <td>1472</td>\n",
       "      <td>RABIYA MAZHAR</td>\n",
       "      <td>MAZHAR JAWED</td>\n",
       "      <td>1999-09-26</td>\n",
       "      <td>1999</td>\n",
       "      <td>9</td>\n",
       "    </tr>\n",
       "    <tr>\n",
       "      <th>43</th>\n",
       "      <td>1117</td>\n",
       "      <td>Roshan Kumar</td>\n",
       "      <td>Suresh</td>\n",
       "      <td>1998-06-15</td>\n",
       "      <td>1998</td>\n",
       "      <td>6</td>\n",
       "    </tr>\n",
       "    <tr>\n",
       "      <th>45</th>\n",
       "      <td>1420</td>\n",
       "      <td>VERKHA TANWANI</td>\n",
       "      <td>KANYA LAL</td>\n",
       "      <td>1998-07-17</td>\n",
       "      <td>1998</td>\n",
       "      <td>7</td>\n",
       "    </tr>\n",
       "    <tr>\n",
       "      <th>46</th>\n",
       "      <td>1290</td>\n",
       "      <td>SANAM SHAFI</td>\n",
       "      <td>SHAFI MUHAMMAD</td>\n",
       "      <td>1997-11-04</td>\n",
       "      <td>1997</td>\n",
       "      <td>11</td>\n",
       "    </tr>\n",
       "    <tr>\n",
       "      <th>47</th>\n",
       "      <td>1486</td>\n",
       "      <td>MUHAMMAD ISMAIL</td>\n",
       "      <td>ABDUL LATIF</td>\n",
       "      <td>1988-05-23</td>\n",
       "      <td>1988</td>\n",
       "      <td>5</td>\n",
       "    </tr>\n",
       "    <tr>\n",
       "      <th>48</th>\n",
       "      <td>1067</td>\n",
       "      <td>HAFSA</td>\n",
       "      <td>MUHAMMAD HANIF VOHRA</td>\n",
       "      <td>1998-07-07</td>\n",
       "      <td>1998</td>\n",
       "      <td>7</td>\n",
       "    </tr>\n",
       "    <tr>\n",
       "      <th>49</th>\n",
       "      <td>1464</td>\n",
       "      <td>Aaiman Shahid</td>\n",
       "      <td>Shahid Ahmed</td>\n",
       "      <td>1997-01-12</td>\n",
       "      <td>1997</td>\n",
       "      <td>1</td>\n",
       "    </tr>\n",
       "    <tr>\n",
       "      <th>50</th>\n",
       "      <td>1015</td>\n",
       "      <td>HINA AKRAM ABBASI</td>\n",
       "      <td>MUHAMMAD AKRAM ABBASI</td>\n",
       "      <td>1995-11-19</td>\n",
       "      <td>1995</td>\n",
       "      <td>11</td>\n",
       "    </tr>\n",
       "    <tr>\n",
       "      <th>51</th>\n",
       "      <td>1010</td>\n",
       "      <td>Hafiza Sana Habib</td>\n",
       "      <td>Habibullah Khan</td>\n",
       "      <td>1998-01-25</td>\n",
       "      <td>1998</td>\n",
       "      <td>1</td>\n",
       "    </tr>\n",
       "    <tr>\n",
       "      <th>52</th>\n",
       "      <td>1418</td>\n",
       "      <td>PREETI AdVANI</td>\n",
       "      <td>JAWAHAR LAL ADVANI</td>\n",
       "      <td>1998-08-08</td>\n",
       "      <td>1998</td>\n",
       "      <td>8</td>\n",
       "    </tr>\n",
       "    <tr>\n",
       "      <th>53</th>\n",
       "      <td>1298</td>\n",
       "      <td>Ammar khan soomro</td>\n",
       "      <td>Abdul jabbar</td>\n",
       "      <td>2000-03-16</td>\n",
       "      <td>2000</td>\n",
       "      <td>3</td>\n",
       "    </tr>\n",
       "    <tr>\n",
       "      <th>54</th>\n",
       "      <td>1296</td>\n",
       "      <td>Ayesha Hassan</td>\n",
       "      <td>Muhammad Hassan</td>\n",
       "      <td>1999-08-26</td>\n",
       "      <td>1999</td>\n",
       "      <td>8</td>\n",
       "    </tr>\n",
       "    <tr>\n",
       "      <th>56</th>\n",
       "      <td>1033</td>\n",
       "      <td>SADIA ANWER</td>\n",
       "      <td>MUHAMMAD ANWER</td>\n",
       "      <td>1999-03-03</td>\n",
       "      <td>1999</td>\n",
       "      <td>3</td>\n",
       "    </tr>\n",
       "    <tr>\n",
       "      <th>57</th>\n",
       "      <td>1491</td>\n",
       "      <td>Urooj</td>\n",
       "      <td>Mukhtar Hussain Azad</td>\n",
       "      <td>1997-08-18</td>\n",
       "      <td>1997</td>\n",
       "      <td>8</td>\n",
       "    </tr>\n",
       "    <tr>\n",
       "      <th>58</th>\n",
       "      <td>1063</td>\n",
       "      <td>TOOBA SANA</td>\n",
       "      <td>MUHAMMAD ZAHEER</td>\n",
       "      <td>1998-11-01</td>\n",
       "      <td>1998</td>\n",
       "      <td>11</td>\n",
       "    </tr>\n",
       "    <tr>\n",
       "      <th>60</th>\n",
       "      <td>1498</td>\n",
       "      <td>HAFIZA HAFSA EJAZ</td>\n",
       "      <td>EJAZ UR REHMAN</td>\n",
       "      <td>1997-04-12</td>\n",
       "      <td>1997</td>\n",
       "      <td>4</td>\n",
       "    </tr>\n",
       "    <tr>\n",
       "      <th>61</th>\n",
       "      <td>1125</td>\n",
       "      <td>JAVIRIYA</td>\n",
       "      <td>MUHAMMAD IBRAHIM</td>\n",
       "      <td>1997-11-03</td>\n",
       "      <td>1997</td>\n",
       "      <td>11</td>\n",
       "    </tr>\n",
       "    <tr>\n",
       "      <th>62</th>\n",
       "      <td>1080</td>\n",
       "      <td>ANUM RAUF</td>\n",
       "      <td>QAZI ABDUL RAUF</td>\n",
       "      <td>1997-04-10</td>\n",
       "      <td>1997</td>\n",
       "      <td>4</td>\n",
       "    </tr>\n",
       "    <tr>\n",
       "      <th>63</th>\n",
       "      <td>1259</td>\n",
       "      <td>TABINDA ZAIDI</td>\n",
       "      <td>SYED ARIF NADEEM ZAIDI</td>\n",
       "      <td>1998-06-03</td>\n",
       "      <td>1998</td>\n",
       "      <td>6</td>\n",
       "    </tr>\n",
       "    <tr>\n",
       "      <th>64</th>\n",
       "      <td>1152</td>\n",
       "      <td>SARA AMJAD</td>\n",
       "      <td>ZAFAR IQBAL</td>\n",
       "      <td>1998-01-21</td>\n",
       "      <td>1998</td>\n",
       "      <td>1</td>\n",
       "    </tr>\n",
       "    <tr>\n",
       "      <th>65</th>\n",
       "      <td>1029</td>\n",
       "      <td>MUHAMMAD ANAS ALI RAZA</td>\n",
       "      <td>ASIF MEHMOOD</td>\n",
       "      <td>1997-02-17</td>\n",
       "      <td>1997</td>\n",
       "      <td>2</td>\n",
       "    </tr>\n",
       "  </tbody>\n",
       "</table>\n",
       "</div>"
      ],
      "text/plain": [
       "    Application No                    Name                Father Name  \\\n",
       "0             1036           NABILA TOHEED               TOHEED AHMED   \n",
       "1             1072            PIRHA MASOOD        MASOOD AHMED SHAIKH   \n",
       "2             1294    MUHAMMAD ASHAR NAEEM  MUHAMMAD NAEEM ANWAR LATE   \n",
       "5             1467              IQRA ASLAM             Muhammad Aslam   \n",
       "6             1039            FAIZA RUSTAM           SYED RUSTAM SHAH   \n",
       "8             1021             SAIRA rAFIQ             MUHAMMAD RAFIQ   \n",
       "9             1016       ROHA FARHAN LODHI          FARHAN KHAN LODHI   \n",
       "10            1025              HAFSA QAZI       SHAFI MOHAMMAD QAZI    \n",
       "11            1032                  AYESHA    RASHID HUSSAIN SIDDIQUE   \n",
       "12            1268           Aleena Arshad                 Arshad Ali   \n",
       "13            1087   Muhammad Sami Qureshi     Shafi Muhammad Qureshi   \n",
       "14            1047        NEHA ARSHAD KHAN        ARSHAD MEHMOOD KHAN   \n",
       "15            1050         SAIF ASLAM KHAN              ASLAM SHAKOOR   \n",
       "16            1495             ABDUL WASAY              MANSOOR ANWER   \n",
       "17            1263           ARMISHA TARIQ               TARIQ RASHID   \n",
       "18            1354                   MAHAM          MUHAMMAD SIDDIQUE   \n",
       "19            1028           TOOBA KHATOON    SHAIKH MUHAMMAD SHAKEEL   \n",
       "20            1011             EZWA ASHFAQ             ASHFAQ HUSSAIN   \n",
       "21            1480                  WARDHA             ATTAULLAH KHAN   \n",
       "22            1489           FARHANA ISRAR                ISRAR AHMED   \n",
       "24            1008   MUHAMMAD HAMZA NADEEM  MUHAMMAD NADEEM CHAUDHARY   \n",
       "30            1257           Urooj Shafqat    Shafqat Ur Rehman Sajid   \n",
       "34            1088      AREEBA MAHROOH GUL             AGHA MAJID GUL   \n",
       "35            1366                  AYISHA       KAMAL IFTIKHAR AHMED   \n",
       "37            1096                   Sumia               Abdul qudoos   \n",
       "38            1082          MUHAMMAD NASIR          MUHAMMAD IBRAHEEM   \n",
       "40            1408          MARYAM MANSOOR       MANSOOR AHMED ANSARI   \n",
       "41            1409            SAFFA MARIAM            MUHUMMAD SALEEM   \n",
       "42            1472           RABIYA MAZHAR               MAZHAR JAWED   \n",
       "43            1117            Roshan Kumar                     Suresh   \n",
       "45            1420          VERKHA TANWANI                  KANYA LAL   \n",
       "46            1290             SANAM SHAFI            SHAFI MUHAMMAD    \n",
       "47            1486         MUHAMMAD ISMAIL                ABDUL LATIF   \n",
       "48            1067                   HAFSA       MUHAMMAD HANIF VOHRA   \n",
       "49            1464           Aaiman Shahid               Shahid Ahmed   \n",
       "50            1015       HINA AKRAM ABBASI      MUHAMMAD AKRAM ABBASI   \n",
       "51            1010       Hafiza Sana Habib            Habibullah Khan   \n",
       "52            1418           PREETI AdVANI         JAWAHAR LAL ADVANI   \n",
       "53            1298       Ammar khan soomro               Abdul jabbar   \n",
       "54            1296           Ayesha Hassan            Muhammad Hassan   \n",
       "56            1033             SADIA ANWER             MUHAMMAD ANWER   \n",
       "57            1491                   Urooj       Mukhtar Hussain Azad   \n",
       "58            1063              TOOBA SANA            MUHAMMAD ZAHEER   \n",
       "60            1498       HAFIZA HAFSA EJAZ             EJAZ UR REHMAN   \n",
       "61            1125               JAVIRIYA            MUHAMMAD IBRAHIM   \n",
       "62            1080               ANUM RAUF            QAZI ABDUL RAUF   \n",
       "63            1259           TABINDA ZAIDI     SYED ARIF NADEEM ZAIDI   \n",
       "64            1152              SARA AMJAD                ZAFAR IQBAL   \n",
       "65            1029  MUHAMMAD ANAS ALI RAZA               ASIF MEHMOOD   \n",
       "\n",
       "          DOB  year  month  \n",
       "0  1998-12-15  1998     12  \n",
       "1  1997-01-17  1997      1  \n",
       "2  1998-02-20  1998      2  \n",
       "5  1997-08-15  1997      8  \n",
       "6  1997-10-10  1997     10  \n",
       "8  1998-11-11  1998     11  \n",
       "9  1998-03-30  1998      3  \n",
       "10 1999-01-31  1999      1  \n",
       "11 1998-03-16  1998      3  \n",
       "12 1999-01-22  1999      1  \n",
       "13 1999-01-31  1999      1  \n",
       "14 1998-10-19  1998     10  \n",
       "15 1997-02-23  1997      2  \n",
       "16 1998-06-17  1998      6  \n",
       "17 1999-08-01  1999      8  \n",
       "18 1996-08-23  1996      8  \n",
       "19 1997-05-05  1997      5  \n",
       "20 1999-01-18  1999      1  \n",
       "21 1996-03-29  1996      3  \n",
       "22 1996-12-08  1996     12  \n",
       "24 1997-06-22  1997      6  \n",
       "30 1997-05-30  1997      5  \n",
       "34 1997-02-09  1997      2  \n",
       "35 1998-04-03  1998      4  \n",
       "37 1999-01-01  1999      1  \n",
       "38 1997-01-23  1997      1  \n",
       "40 1997-08-01  1997      8  \n",
       "41 1995-09-07  1995      9  \n",
       "42 1999-09-26  1999      9  \n",
       "43 1998-06-15  1998      6  \n",
       "45 1998-07-17  1998      7  \n",
       "46 1997-11-04  1997     11  \n",
       "47 1988-05-23  1988      5  \n",
       "48 1998-07-07  1998      7  \n",
       "49 1997-01-12  1997      1  \n",
       "50 1995-11-19  1995     11  \n",
       "51 1998-01-25  1998      1  \n",
       "52 1998-08-08  1998      8  \n",
       "53 2000-03-16  2000      3  \n",
       "54 1999-08-26  1999      8  \n",
       "56 1999-03-03  1999      3  \n",
       "57 1997-08-18  1997      8  \n",
       "58 1998-11-01  1998     11  \n",
       "60 1997-04-12  1997      4  \n",
       "61 1997-11-03  1997     11  \n",
       "62 1997-04-10  1997      4  \n",
       "63 1998-06-03  1998      6  \n",
       "64 1998-01-21  1998      1  \n",
       "65 1997-02-17  1997      2  "
      ]
     },
     "execution_count": 158,
     "metadata": {},
     "output_type": "execute_result"
    }
   ],
   "source": [
    "ped=ped.drop_duplicates()\n",
    "ped"
   ]
  },
  {
   "cell_type": "code",
   "execution_count": 159,
   "metadata": {},
   "outputs": [
    {
     "data": {
      "text/plain": [
       "False"
      ]
     },
     "execution_count": 159,
     "metadata": {},
     "output_type": "execute_result"
    }
   ],
   "source": [
    "ped.duplicated().any()"
   ]
  },
  {
   "cell_type": "code",
   "execution_count": 119,
   "metadata": {
    "collapsed": true
   },
   "outputs": [
    {
     "data": {
      "text/plain": [
       "NABILA TOHEED             1\n",
       "MUHAMMAD NASIR            1\n",
       "SAFFA MARIAM              1\n",
       "RABIYA MAZHAR             1\n",
       "Roshan Kumar              1\n",
       "VERKHA TANWANI            1\n",
       "SANAM SHAFI               1\n",
       "MUHAMMAD ISMAIL           1\n",
       "HAFSA                     1\n",
       "Aaiman Shahid             1\n",
       "HINA AKRAM ABBASI         1\n",
       "Hafiza Sana Habib         1\n",
       "PREETI AdVANI             1\n",
       "Ammar khan soomro         1\n",
       "Ayesha Hassan             1\n",
       "SADIA ANWER               1\n",
       "Urooj                     1\n",
       "TOOBA SANA                1\n",
       "HAFIZA HAFSA EJAZ         1\n",
       "JAVIRIYA                  1\n",
       "ANUM RAUF                 1\n",
       "TABINDA ZAIDI             1\n",
       "SARA AMJAD                1\n",
       "MARYAM MANSOOR            1\n",
       "Sumia                     1\n",
       "PIRHA MASOOD              1\n",
       "AYISHA                    1\n",
       "MUHAMMAD ASHAR NAEEM      1\n",
       "IQRA ASLAM                1\n",
       "FAIZA RUSTAM              1\n",
       "SAIRA rAFIQ               1\n",
       "ROHA FARHAN LODHI         1\n",
       "HAFSA QAZI                1\n",
       "AYESHA                    1\n",
       "Aleena Arshad             1\n",
       "Muhammad Sami Qureshi     1\n",
       "NEHA ARSHAD KHAN          1\n",
       "SAIF ASLAM KHAN           1\n",
       "ABDUL WASAY               1\n",
       "ARMISHA TARIQ             1\n",
       "MAHAM                     1\n",
       "TOOBA KHATOON             1\n",
       "EZWA ASHFAQ               1\n",
       "WARDHA                    1\n",
       "FARHANA ISRAR             1\n",
       "MUHAMMAD HAMZA NADEEM     1\n",
       "Urooj Shafqat             1\n",
       "AREEBA MAHROOH GUL        1\n",
       "MUHAMMAD ANAS ALI RAZA    1\n",
       "Name: Name, dtype: int64"
      ]
     },
     "execution_count": 119,
     "metadata": {},
     "output_type": "execute_result"
    }
   ],
   "source": [
    "ped['Name'].value_counts()"
   ]
  },
  {
   "cell_type": "code",
   "execution_count": 160,
   "metadata": {},
   "outputs": [
    {
     "data": {
      "text/plain": [
       "Application No    49\n",
       "Name              49\n",
       "Father Name       49\n",
       "DOB               48\n",
       "year               7\n",
       "month             12\n",
       "dtype: int64"
      ]
     },
     "execution_count": 160,
     "metadata": {},
     "output_type": "execute_result"
    }
   ],
   "source": [
    "ped.nunique()"
   ]
  },
  {
   "cell_type": "code",
   "execution_count": 161,
   "metadata": {},
   "outputs": [
    {
     "data": {
      "text/plain": [
       "(49, 6)"
      ]
     },
     "execution_count": 161,
     "metadata": {},
     "output_type": "execute_result"
    }
   ],
   "source": [
    "ped.shape"
   ]
  },
  {
   "cell_type": "code",
   "execution_count": 162,
   "metadata": {
    "collapsed": true
   },
   "outputs": [
    {
     "data": {
      "text/plain": [
       "0     False\n",
       "1     False\n",
       "2     False\n",
       "5     False\n",
       "6     False\n",
       "8     False\n",
       "9     False\n",
       "10    False\n",
       "11    False\n",
       "12    False\n",
       "13    False\n",
       "14    False\n",
       "15    False\n",
       "16    False\n",
       "17    False\n",
       "18    False\n",
       "19    False\n",
       "20    False\n",
       "21    False\n",
       "22    False\n",
       "24    False\n",
       "30    False\n",
       "34    False\n",
       "35    False\n",
       "37    False\n",
       "38    False\n",
       "40    False\n",
       "41    False\n",
       "42    False\n",
       "43    False\n",
       "45    False\n",
       "46    False\n",
       "47    False\n",
       "48    False\n",
       "49    False\n",
       "50    False\n",
       "51    False\n",
       "52    False\n",
       "53    False\n",
       "54    False\n",
       "56    False\n",
       "57    False\n",
       "58    False\n",
       "60    False\n",
       "61    False\n",
       "62    False\n",
       "63    False\n",
       "64    False\n",
       "65    False\n",
       "Name: DOB, dtype: bool"
      ]
     },
     "execution_count": 162,
     "metadata": {},
     "output_type": "execute_result"
    }
   ],
   "source": [
    "ped['DOB'].isnull()"
   ]
  },
  {
   "cell_type": "code",
   "execution_count": 163,
   "metadata": {},
   "outputs": [
    {
     "data": {
      "text/plain": [
       "1    41\n",
       "2     4\n",
       "3     2\n",
       "7     1\n",
       "4     1\n",
       "Name: Application No, dtype: int64"
      ]
     },
     "execution_count": 163,
     "metadata": {},
     "output_type": "execute_result"
    }
   ],
   "source": [
    "acd.value_counts()"
   ]
  },
  {
   "cell_type": "code",
   "execution_count": 164,
   "metadata": {},
   "outputs": [
    {
     "data": {
      "text/plain": [
       "True"
      ]
     },
     "execution_count": 164,
     "metadata": {},
     "output_type": "execute_result"
    }
   ],
   "source": [
    "acd.duplicated().any()"
   ]
  },
  {
   "cell_type": "code",
   "execution_count": 170,
   "metadata": {},
   "outputs": [
    {
     "data": {
      "text/plain": [
       "count    49.000000\n",
       "mean      1.346939\n",
       "std       1.031807\n",
       "min       1.000000\n",
       "25%       1.000000\n",
       "50%       1.000000\n",
       "75%       1.000000\n",
       "max       7.000000\n",
       "Name: Application No, dtype: float64"
      ]
     },
     "execution_count": 170,
     "metadata": {},
     "output_type": "execute_result"
    }
   ],
   "source": [
    "acd.describe()"
   ]
  },
  {
   "cell_type": "code",
   "execution_count": 172,
   "metadata": {},
   "outputs": [
    {
     "data": {
      "text/plain": [
       "1354    7\n",
       "1489    4\n",
       "1294    3\n",
       "1366    3\n",
       "1467    2\n",
       "Name: Application No, dtype: int64"
      ]
     },
     "execution_count": 172,
     "metadata": {},
     "output_type": "execute_result"
    }
   ],
   "source": [
    "acd.head()"
   ]
  },
  {
   "cell_type": "code",
   "execution_count": 173,
   "metadata": {},
   "outputs": [
    {
     "data": {
      "text/plain": [
       "(49,)"
      ]
     },
     "execution_count": 173,
     "metadata": {},
     "output_type": "execute_result"
    }
   ],
   "source": [
    "acd.shape"
   ]
  },
  {
   "cell_type": "code",
   "execution_count": 141,
   "metadata": {},
   "outputs": [
    {
     "data": {
      "text/plain": [
       "1354    7\n",
       "1489    4\n",
       "1294    3\n",
       "1366    3\n",
       "1467    2\n",
       "Name: Application No, dtype: int64"
      ]
     },
     "execution_count": 141,
     "metadata": {},
     "output_type": "execute_result"
    }
   ],
   "source": [
    "acd.head()"
   ]
  },
  {
   "cell_type": "code",
   "execution_count": 142,
   "metadata": {},
   "outputs": [
    {
     "name": "stdout",
     "output_type": "stream",
     "text": [
      "<class 'pandas.core.frame.DataFrame'>\n",
      "Int64Index: 49 entries, 0 to 65\n",
      "Data columns (total 4 columns):\n",
      " #   Column          Non-Null Count  Dtype         \n",
      "---  ------          --------------  -----         \n",
      " 0   Application No  49 non-null     int64         \n",
      " 1   Name            49 non-null     object        \n",
      " 2   Father Name     49 non-null     object        \n",
      " 3   DOB             49 non-null     datetime64[ns]\n",
      "dtypes: datetime64[ns](1), int64(1), object(2)\n",
      "memory usage: 1.9+ KB\n"
     ]
    }
   ],
   "source": [
    "ped.info()"
   ]
  },
  {
   "cell_type": "code",
   "execution_count": 144,
   "metadata": {},
   "outputs": [],
   "source": [
    "ped['year']=ped['DOB'].dt.year\n",
    "ped['month']=ped['DOB'].dt.month"
   ]
  },
  {
   "cell_type": "code",
   "execution_count": 145,
   "metadata": {},
   "outputs": [
    {
     "data": {
      "text/html": [
       "<div>\n",
       "<style scoped>\n",
       "    .dataframe tbody tr th:only-of-type {\n",
       "        vertical-align: middle;\n",
       "    }\n",
       "\n",
       "    .dataframe tbody tr th {\n",
       "        vertical-align: top;\n",
       "    }\n",
       "\n",
       "    .dataframe thead th {\n",
       "        text-align: right;\n",
       "    }\n",
       "</style>\n",
       "<table border=\"1\" class=\"dataframe\">\n",
       "  <thead>\n",
       "    <tr style=\"text-align: right;\">\n",
       "      <th></th>\n",
       "      <th>Application No</th>\n",
       "      <th>Name</th>\n",
       "      <th>Father Name</th>\n",
       "      <th>DOB</th>\n",
       "      <th>year</th>\n",
       "      <th>month</th>\n",
       "    </tr>\n",
       "  </thead>\n",
       "  <tbody>\n",
       "    <tr>\n",
       "      <th>0</th>\n",
       "      <td>1036</td>\n",
       "      <td>NABILA TOHEED</td>\n",
       "      <td>TOHEED AHMED</td>\n",
       "      <td>1998-12-15</td>\n",
       "      <td>1998</td>\n",
       "      <td>12</td>\n",
       "    </tr>\n",
       "    <tr>\n",
       "      <th>1</th>\n",
       "      <td>1072</td>\n",
       "      <td>PIRHA MASOOD</td>\n",
       "      <td>MASOOD AHMED SHAIKH</td>\n",
       "      <td>1997-01-17</td>\n",
       "      <td>1997</td>\n",
       "      <td>1</td>\n",
       "    </tr>\n",
       "    <tr>\n",
       "      <th>2</th>\n",
       "      <td>1294</td>\n",
       "      <td>MUHAMMAD ASHAR NAEEM</td>\n",
       "      <td>MUHAMMAD NAEEM ANWAR LATE</td>\n",
       "      <td>1998-02-20</td>\n",
       "      <td>1998</td>\n",
       "      <td>2</td>\n",
       "    </tr>\n",
       "    <tr>\n",
       "      <th>5</th>\n",
       "      <td>1467</td>\n",
       "      <td>IQRA ASLAM</td>\n",
       "      <td>Muhammad Aslam</td>\n",
       "      <td>1997-08-15</td>\n",
       "      <td>1997</td>\n",
       "      <td>8</td>\n",
       "    </tr>\n",
       "    <tr>\n",
       "      <th>6</th>\n",
       "      <td>1039</td>\n",
       "      <td>FAIZA RUSTAM</td>\n",
       "      <td>SYED RUSTAM SHAH</td>\n",
       "      <td>1997-10-10</td>\n",
       "      <td>1997</td>\n",
       "      <td>10</td>\n",
       "    </tr>\n",
       "  </tbody>\n",
       "</table>\n",
       "</div>"
      ],
      "text/plain": [
       "   Application No                  Name                Father Name        DOB  \\\n",
       "0            1036         NABILA TOHEED               TOHEED AHMED 1998-12-15   \n",
       "1            1072          PIRHA MASOOD        MASOOD AHMED SHAIKH 1997-01-17   \n",
       "2            1294  MUHAMMAD ASHAR NAEEM  MUHAMMAD NAEEM ANWAR LATE 1998-02-20   \n",
       "5            1467            IQRA ASLAM             Muhammad Aslam 1997-08-15   \n",
       "6            1039          FAIZA RUSTAM           SYED RUSTAM SHAH 1997-10-10   \n",
       "\n",
       "   year  month  \n",
       "0  1998     12  \n",
       "1  1997      1  \n",
       "2  1998      2  \n",
       "5  1997      8  \n",
       "6  1997     10  "
      ]
     },
     "execution_count": 145,
     "metadata": {},
     "output_type": "execute_result"
    }
   ],
   "source": [
    "ped.head()"
   ]
  },
  {
   "cell_type": "markdown",
   "metadata": {
    "colab": {},
    "colab_type": "code",
    "id": "FxzbSzWDqytZ"
   },
   "source": [
    "**Observations:**\n",
    "- There is no missing values in table and no inconsistency in tables, the data set is cleaned."
   ]
  },
  {
   "cell_type": "markdown",
   "metadata": {
    "colab_type": "text",
    "id": "amsQwri2q1_J"
   },
   "source": [
    "---\n",
    "<a name = Section7></a>\n",
    "# **7. Data Post-Profiling**\n",
    "---\n",
    "\n",
    "- This section is emphasised on getting a report about the data after the data manipulation.\n",
    "\n",
    "- You may end up observing some new changes, so keep it under check and make right observations."
   ]
  },
  {
   "cell_type": "markdown",
   "metadata": {
    "colab": {},
    "colab_type": "code",
    "id": "87U7K8sWq1y5"
   },
   "source": [
    "**Observations:**\n",
    "- After removal of duplicate data , data set is cleaned.\n",
    "- Data set is ready to use "
   ]
  },
  {
   "cell_type": "markdown",
   "metadata": {
    "colab_type": "text",
    "id": "taDvvLa9q-5p"
   },
   "source": [
    "---\n",
    "<a name = Section8></a>\n",
    "# **8. Exploratory Data Analysis**\n",
    "---\n",
    "\n",
    "- This section is emphasised on asking the right questions and perform analysis using the data.\n",
    "\n"
   ]
  },
  {
   "cell_type": "markdown",
   "metadata": {},
   "source": [
    "**Question 1:**\n",
    "Are students eligible for admission in university as per HighSchool GPA? (Hint : High School GPA > 3.0)"
   ]
  },
  {
   "cell_type": "code",
   "execution_count": 154,
   "metadata": {},
   "outputs": [
    {
     "ename": "AttributeError",
     "evalue": "'Series' object has no attribute 'columns'",
     "output_type": "error",
     "traceback": [
      "\u001b[1;31m---------------------------------------------------------------------------\u001b[0m",
      "\u001b[1;31mAttributeError\u001b[0m                            Traceback (most recent call last)",
      "\u001b[1;32m~\\AppData\\Local\\Temp/ipykernel_13664/2141749972.py\u001b[0m in \u001b[0;36m<module>\u001b[1;34m\u001b[0m\n\u001b[1;32m----> 1\u001b[1;33m \u001b[0mresult\u001b[0m\u001b[1;33m=\u001b[0m\u001b[0macd\u001b[0m\u001b[1;33m.\u001b[0m\u001b[0mcolumns\u001b[0m\u001b[1;33m\u001b[0m\u001b[1;33m\u001b[0m\u001b[0m\n\u001b[0m\u001b[0;32m      2\u001b[0m \u001b[0mresult\u001b[0m\u001b[1;33m\u001b[0m\u001b[1;33m\u001b[0m\u001b[0m\n",
      "\u001b[1;32m~\\anaconda3\\lib\\site-packages\\pandas\\core\\generic.py\u001b[0m in \u001b[0;36m__getattr__\u001b[1;34m(self, name)\u001b[0m\n\u001b[0;32m   5485\u001b[0m         ):\n\u001b[0;32m   5486\u001b[0m             \u001b[1;32mreturn\u001b[0m \u001b[0mself\u001b[0m\u001b[1;33m[\u001b[0m\u001b[0mname\u001b[0m\u001b[1;33m]\u001b[0m\u001b[1;33m\u001b[0m\u001b[1;33m\u001b[0m\u001b[0m\n\u001b[1;32m-> 5487\u001b[1;33m         \u001b[1;32mreturn\u001b[0m \u001b[0mobject\u001b[0m\u001b[1;33m.\u001b[0m\u001b[0m__getattribute__\u001b[0m\u001b[1;33m(\u001b[0m\u001b[0mself\u001b[0m\u001b[1;33m,\u001b[0m \u001b[0mname\u001b[0m\u001b[1;33m)\u001b[0m\u001b[1;33m\u001b[0m\u001b[1;33m\u001b[0m\u001b[0m\n\u001b[0m\u001b[0;32m   5488\u001b[0m \u001b[1;33m\u001b[0m\u001b[0m\n\u001b[0;32m   5489\u001b[0m     \u001b[1;32mdef\u001b[0m \u001b[0m__setattr__\u001b[0m\u001b[1;33m(\u001b[0m\u001b[0mself\u001b[0m\u001b[1;33m,\u001b[0m \u001b[0mname\u001b[0m\u001b[1;33m:\u001b[0m \u001b[0mstr\u001b[0m\u001b[1;33m,\u001b[0m \u001b[0mvalue\u001b[0m\u001b[1;33m)\u001b[0m \u001b[1;33m->\u001b[0m \u001b[1;32mNone\u001b[0m\u001b[1;33m:\u001b[0m\u001b[1;33m\u001b[0m\u001b[1;33m\u001b[0m\u001b[0m\n",
      "\u001b[1;31mAttributeError\u001b[0m: 'Series' object has no attribute 'columns'"
     ]
    }
   ],
   "source": [
    "acd.columns"
   ]
  },
  {
   "cell_type": "code",
   "execution_count": 168,
   "metadata": {},
   "outputs": [
    {
     "ename": "KeyError",
     "evalue": "'HighSchool GPA'",
     "output_type": "error",
     "traceback": [
      "\u001b[1;31m---------------------------------------------------------------------------\u001b[0m",
      "\u001b[1;31mKeyError\u001b[0m                                  Traceback (most recent call last)",
      "\u001b[1;32m~\\anaconda3\\lib\\site-packages\\pandas\\core\\indexes\\base.py\u001b[0m in \u001b[0;36mget_loc\u001b[1;34m(self, key, method, tolerance)\u001b[0m\n\u001b[0;32m   3360\u001b[0m             \u001b[1;32mtry\u001b[0m\u001b[1;33m:\u001b[0m\u001b[1;33m\u001b[0m\u001b[1;33m\u001b[0m\u001b[0m\n\u001b[1;32m-> 3361\u001b[1;33m                 \u001b[1;32mreturn\u001b[0m \u001b[0mself\u001b[0m\u001b[1;33m.\u001b[0m\u001b[0m_engine\u001b[0m\u001b[1;33m.\u001b[0m\u001b[0mget_loc\u001b[0m\u001b[1;33m(\u001b[0m\u001b[0mcasted_key\u001b[0m\u001b[1;33m)\u001b[0m\u001b[1;33m\u001b[0m\u001b[1;33m\u001b[0m\u001b[0m\n\u001b[0m\u001b[0;32m   3362\u001b[0m             \u001b[1;32mexcept\u001b[0m \u001b[0mKeyError\u001b[0m \u001b[1;32mas\u001b[0m \u001b[0merr\u001b[0m\u001b[1;33m:\u001b[0m\u001b[1;33m\u001b[0m\u001b[1;33m\u001b[0m\u001b[0m\n",
      "\u001b[1;32m~\\anaconda3\\lib\\site-packages\\pandas\\_libs\\index.pyx\u001b[0m in \u001b[0;36mpandas._libs.index.IndexEngine.get_loc\u001b[1;34m()\u001b[0m\n",
      "\u001b[1;32mpandas\\_libs\\index_class_helper.pxi\u001b[0m in \u001b[0;36mpandas._libs.index.Int64Engine._check_type\u001b[1;34m()\u001b[0m\n",
      "\u001b[1;32mpandas\\_libs\\index_class_helper.pxi\u001b[0m in \u001b[0;36mpandas._libs.index.Int64Engine._check_type\u001b[1;34m()\u001b[0m\n",
      "\u001b[1;31mKeyError\u001b[0m: 'HighSchool GPA'",
      "\nThe above exception was the direct cause of the following exception:\n",
      "\u001b[1;31mKeyError\u001b[0m                                  Traceback (most recent call last)",
      "\u001b[1;32m~\\AppData\\Local\\Temp/ipykernel_13664/650197908.py\u001b[0m in \u001b[0;36m<module>\u001b[1;34m\u001b[0m\n\u001b[1;32m----> 1\u001b[1;33m \u001b[0mmy_temp\u001b[0m\u001b[1;33m=\u001b[0m\u001b[0macd\u001b[0m\u001b[1;33m[\u001b[0m\u001b[0macd\u001b[0m\u001b[1;33m[\u001b[0m\u001b[1;34m'HighSchool GPA'\u001b[0m\u001b[1;33m]\u001b[0m\u001b[1;33m>\u001b[0m\u001b[1;36m3.0\u001b[0m\u001b[1;33m]\u001b[0m\u001b[1;33m.\u001b[0m\u001b[0mhead\u001b[0m\u001b[1;33m(\u001b[0m\u001b[1;33m)\u001b[0m\u001b[1;33m\u001b[0m\u001b[1;33m\u001b[0m\u001b[0m\n\u001b[0m\u001b[0;32m      2\u001b[0m \u001b[0mmy_temp\u001b[0m\u001b[1;33m\u001b[0m\u001b[1;33m\u001b[0m\u001b[0m\n",
      "\u001b[1;32m~\\anaconda3\\lib\\site-packages\\pandas\\core\\series.py\u001b[0m in \u001b[0;36m__getitem__\u001b[1;34m(self, key)\u001b[0m\n\u001b[0;32m    940\u001b[0m \u001b[1;33m\u001b[0m\u001b[0m\n\u001b[0;32m    941\u001b[0m         \u001b[1;32melif\u001b[0m \u001b[0mkey_is_scalar\u001b[0m\u001b[1;33m:\u001b[0m\u001b[1;33m\u001b[0m\u001b[1;33m\u001b[0m\u001b[0m\n\u001b[1;32m--> 942\u001b[1;33m             \u001b[1;32mreturn\u001b[0m \u001b[0mself\u001b[0m\u001b[1;33m.\u001b[0m\u001b[0m_get_value\u001b[0m\u001b[1;33m(\u001b[0m\u001b[0mkey\u001b[0m\u001b[1;33m)\u001b[0m\u001b[1;33m\u001b[0m\u001b[1;33m\u001b[0m\u001b[0m\n\u001b[0m\u001b[0;32m    943\u001b[0m \u001b[1;33m\u001b[0m\u001b[0m\n\u001b[0;32m    944\u001b[0m         \u001b[1;32mif\u001b[0m \u001b[0mis_hashable\u001b[0m\u001b[1;33m(\u001b[0m\u001b[0mkey\u001b[0m\u001b[1;33m)\u001b[0m\u001b[1;33m:\u001b[0m\u001b[1;33m\u001b[0m\u001b[1;33m\u001b[0m\u001b[0m\n",
      "\u001b[1;32m~\\anaconda3\\lib\\site-packages\\pandas\\core\\series.py\u001b[0m in \u001b[0;36m_get_value\u001b[1;34m(self, label, takeable)\u001b[0m\n\u001b[0;32m   1049\u001b[0m \u001b[1;33m\u001b[0m\u001b[0m\n\u001b[0;32m   1050\u001b[0m         \u001b[1;31m# Similar to Index.get_value, but we do not fall back to positional\u001b[0m\u001b[1;33m\u001b[0m\u001b[1;33m\u001b[0m\u001b[0m\n\u001b[1;32m-> 1051\u001b[1;33m         \u001b[0mloc\u001b[0m \u001b[1;33m=\u001b[0m \u001b[0mself\u001b[0m\u001b[1;33m.\u001b[0m\u001b[0mindex\u001b[0m\u001b[1;33m.\u001b[0m\u001b[0mget_loc\u001b[0m\u001b[1;33m(\u001b[0m\u001b[0mlabel\u001b[0m\u001b[1;33m)\u001b[0m\u001b[1;33m\u001b[0m\u001b[1;33m\u001b[0m\u001b[0m\n\u001b[0m\u001b[0;32m   1052\u001b[0m         \u001b[1;32mreturn\u001b[0m \u001b[0mself\u001b[0m\u001b[1;33m.\u001b[0m\u001b[0mindex\u001b[0m\u001b[1;33m.\u001b[0m\u001b[0m_get_values_for_loc\u001b[0m\u001b[1;33m(\u001b[0m\u001b[0mself\u001b[0m\u001b[1;33m,\u001b[0m \u001b[0mloc\u001b[0m\u001b[1;33m,\u001b[0m \u001b[0mlabel\u001b[0m\u001b[1;33m)\u001b[0m\u001b[1;33m\u001b[0m\u001b[1;33m\u001b[0m\u001b[0m\n\u001b[0;32m   1053\u001b[0m \u001b[1;33m\u001b[0m\u001b[0m\n",
      "\u001b[1;32m~\\anaconda3\\lib\\site-packages\\pandas\\core\\indexes\\base.py\u001b[0m in \u001b[0;36mget_loc\u001b[1;34m(self, key, method, tolerance)\u001b[0m\n\u001b[0;32m   3361\u001b[0m                 \u001b[1;32mreturn\u001b[0m \u001b[0mself\u001b[0m\u001b[1;33m.\u001b[0m\u001b[0m_engine\u001b[0m\u001b[1;33m.\u001b[0m\u001b[0mget_loc\u001b[0m\u001b[1;33m(\u001b[0m\u001b[0mcasted_key\u001b[0m\u001b[1;33m)\u001b[0m\u001b[1;33m\u001b[0m\u001b[1;33m\u001b[0m\u001b[0m\n\u001b[0;32m   3362\u001b[0m             \u001b[1;32mexcept\u001b[0m \u001b[0mKeyError\u001b[0m \u001b[1;32mas\u001b[0m \u001b[0merr\u001b[0m\u001b[1;33m:\u001b[0m\u001b[1;33m\u001b[0m\u001b[1;33m\u001b[0m\u001b[0m\n\u001b[1;32m-> 3363\u001b[1;33m                 \u001b[1;32mraise\u001b[0m \u001b[0mKeyError\u001b[0m\u001b[1;33m(\u001b[0m\u001b[0mkey\u001b[0m\u001b[1;33m)\u001b[0m \u001b[1;32mfrom\u001b[0m \u001b[0merr\u001b[0m\u001b[1;33m\u001b[0m\u001b[1;33m\u001b[0m\u001b[0m\n\u001b[0m\u001b[0;32m   3364\u001b[0m \u001b[1;33m\u001b[0m\u001b[0m\n\u001b[0;32m   3365\u001b[0m         \u001b[1;32mif\u001b[0m \u001b[0mis_scalar\u001b[0m\u001b[1;33m(\u001b[0m\u001b[0mkey\u001b[0m\u001b[1;33m)\u001b[0m \u001b[1;32mand\u001b[0m \u001b[0misna\u001b[0m\u001b[1;33m(\u001b[0m\u001b[0mkey\u001b[0m\u001b[1;33m)\u001b[0m \u001b[1;32mand\u001b[0m \u001b[1;32mnot\u001b[0m \u001b[0mself\u001b[0m\u001b[1;33m.\u001b[0m\u001b[0mhasnans\u001b[0m\u001b[1;33m:\u001b[0m\u001b[1;33m\u001b[0m\u001b[1;33m\u001b[0m\u001b[0m\n",
      "\u001b[1;31mKeyError\u001b[0m: 'HighSchool GPA'"
     ]
    }
   ],
   "source": [
    "my_temp=acd[acd['HighSchool GPA']>3.0].head()\n",
    "my_temp"
   ]
  },
  {
   "cell_type": "code",
   "execution_count": 169,
   "metadata": {},
   "outputs": [
    {
     "data": {
      "text/plain": [
       "<AxesSubplot:>"
      ]
     },
     "execution_count": 169,
     "metadata": {},
     "output_type": "execute_result"
    },
    {
     "data": {
      "image/png": "[encoded data removed]",
      "text/plain": [
       "<Figure size 432x288 with 1 Axes>"
      ]
     },
     "metadata": {
      "needs_background": "light"
     },
     "output_type": "display_data"
    }
   ],
   "source": [
    "my_temp['HighSchool GPA'].plot.bar()"
   ]
  },
  {
   "cell_type": "code",
   "execution_count": null,
   "metadata": {},
   "outputs": [],
   "source": [
    "my_temp.shape"
   ]
  },
  {
   "cell_type": "markdown",
   "metadata": {},
   "source": [
    "**Observation**\n",
    "\n",
    "-There are **5 students** who have more than 3.0 GPA in High School, so they are **eligible**.\n"
   ]
  },
  {
   "attachments": {},
   "cell_type": "markdown",
   "metadata": {},
   "source": [
    "**Question 2 :** \n",
    "List the students who scored highest marks overall."
   ]
  },
  {
   "cell_type": "code",
   "execution_count": 177,
   "metadata": {},
   "outputs": [
    {
     "ename": "AttributeError",
     "evalue": "module 'pandas' has no attribute 'dataframe'",
     "output_type": "error",
     "traceback": [
      "\u001b[1;31m---------------------------------------------------------------------------\u001b[0m",
      "\u001b[1;31mAttributeError\u001b[0m                            Traceback (most recent call last)",
      "\u001b[1;32m~\\AppData\\Local\\Temp/ipykernel_13664/3475218867.py\u001b[0m in \u001b[0;36m<module>\u001b[1;34m\u001b[0m\n\u001b[1;32m----> 1\u001b[1;33m \u001b[0mgroupby_marks\u001b[0m \u001b[1;33m=\u001b[0m \u001b[0mpd\u001b[0m\u001b[1;33m.\u001b[0m\u001b[0mdataframe\u001b[0m\u001b[1;33m(\u001b[0m\u001b[0macd\u001b[0m\u001b[1;33m.\u001b[0m\u001b[0mgroupby\u001b[0m\u001b[1;33m(\u001b[0m\u001b[1;34m'Physics Marks'\u001b[0m\u001b[1;33m)\u001b[0m\u001b[1;33m[\u001b[0m\u001b[1;34m'Chem Marks'\u001b[0m\u001b[1;33m]\u001b[0m\u001b[1;33m[\u001b[0m\u001b[1;34m'Biology Marks'\u001b[0m\u001b[1;33m]\u001b[0m\u001b[1;33m.\u001b[0m\u001b[0mnunique\u001b[0m\u001b[1;33m(\u001b[0m\u001b[1;33m)\u001b[0m\u001b[1;33m)\u001b[0m\u001b[1;33m\u001b[0m\u001b[1;33m\u001b[0m\u001b[0m\n\u001b[0m\u001b[0;32m      2\u001b[0m \u001b[0mgroupby_marks\u001b[0m\u001b[1;33m.\u001b[0m\u001b[0mhead\u001b[0m\u001b[1;33m(\u001b[0m\u001b[1;33m)\u001b[0m\u001b[1;33m\u001b[0m\u001b[1;33m\u001b[0m\u001b[0m\n",
      "\u001b[1;32m~\\anaconda3\\lib\\site-packages\\pandas\\__init__.py\u001b[0m in \u001b[0;36m__getattr__\u001b[1;34m(name)\u001b[0m\n\u001b[0;32m    242\u001b[0m         \u001b[1;32mreturn\u001b[0m \u001b[0m_SparseArray\u001b[0m\u001b[1;33m\u001b[0m\u001b[1;33m\u001b[0m\u001b[0m\n\u001b[0;32m    243\u001b[0m \u001b[1;33m\u001b[0m\u001b[0m\n\u001b[1;32m--> 244\u001b[1;33m     \u001b[1;32mraise\u001b[0m \u001b[0mAttributeError\u001b[0m\u001b[1;33m(\u001b[0m\u001b[1;34mf\"module 'pandas' has no attribute '{name}'\"\u001b[0m\u001b[1;33m)\u001b[0m\u001b[1;33m\u001b[0m\u001b[1;33m\u001b[0m\u001b[0m\n\u001b[0m\u001b[0;32m    245\u001b[0m \u001b[1;33m\u001b[0m\u001b[0m\n\u001b[0;32m    246\u001b[0m \u001b[1;33m\u001b[0m\u001b[0m\n",
      "\u001b[1;31mAttributeError\u001b[0m: module 'pandas' has no attribute 'dataframe'"
     ]
    }
   ],
   "source": [
    "groupby_marks = pd.dataframe(acd.groupby('Physics Marks')['Chem Marks']['Biology Marks'].nunique())\n",
    "groupby_marks.head()"
   ]
  },
  {
   "cell_type": "markdown",
   "metadata": {
    "colab_type": "text",
    "id": "Pqk4cV2wrIIZ"
   },
   "source": [
    "---\n",
    "<a name = Section9></a>\n",
    "# **9. Summarization**\n",
    "---"
   ]
  },
  {
   "cell_type": "markdown",
   "metadata": {
    "colab_type": "text",
    "id": "wducAS9QrPfZ"
   },
   "source": [
    "<a name = Section91></a>\n",
    "### **9.1 Conclusion**\n",
    "\n",
    "- In recent years the usage of digital media is increased.\n",
    "- Students apply online in various universities which is less time consuming.\n",
    "- Easy for universities to make comparison and accordingly take further actions."
   ]
  },
  {
   "cell_type": "markdown",
   "metadata": {
    "colab_type": "text",
    "id": "z3MtiiACrVJq"
   },
   "source": [
    "<a name = Section92></a>\n",
    "### **9.2 Actionable Insights**\n",
    "\n",
    "- Easy to make decisions regarding admissions as it gives complete insights.\n",
    "- Less time consuming for universities as well as for students."
   ]
  },
  {
   "cell_type": "code",
   "execution_count": null,
   "metadata": {},
   "outputs": [],
   "source": []
  }
 ],
 "metadata": {
  "colab": {
   "authorship_tag": "ABX9TyMHmKvZw75YZk7/dmuQc4DQ",
   "collapsed_sections": [],
   "name": "Analysis on Used Cars.ipynb",
   "provenance": []
  },
  "kernelspec": {
   "display_name": "Python 3 (ipykernel)",
   "language": "python",
   "name": "python3"
  },
  "language_info": {
   "codemirror_mode": {
    "name": "ipython",
    "version": 3
   },
   "file_extension": ".py",
   "mimetype": "text/x-python",
   "name": "python",
   "nbconvert_exporter": "python",
   "pygments_lexer": "ipython3",
   "version": "3.9.7"
  }
 },
 "nbformat": 4,
 "nbformat_minor": 1
}
